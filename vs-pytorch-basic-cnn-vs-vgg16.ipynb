{
 "cells": [
  {
   "cell_type": "markdown",
   "id": "543ffe86",
   "metadata": {
    "papermill": {
     "duration": 0.021234,
     "end_time": "2022-03-24T23:37:06.306357",
     "exception": false,
     "start_time": "2022-03-24T23:37:06.285123",
     "status": "completed"
    },
    "tags": []
   },
   "source": [
    "<a id=\"toc_section\"></a>\n",
    "## Contents of this notebook\n",
    "\n",
    "[**Raghav Rastogi**](https://www.kaggle.com/raghavrastogi75) \n",
    "\n",
    "\n",
    "* [Importing the libraries](#1)\n",
    "* [Loading and transforming the images](#2)\n",
    "* [Splitting the dataset](#3)\n",
    "* [Taking a look at the normalised images](#4)\n",
    "* [Creating Custom CNN network](#5)\n",
    "* [Transfer learning - VGG16](#6)\n",
    "* [Training Custom model](#7)\n",
    "* [Training VGG16 model](#8)"
   ]
  },
  {
   "cell_type": "code",
   "execution_count": 1,
   "id": "cb65ab1a",
   "metadata": {
    "_cell_guid": "b1076dfc-b9ad-4769-8c92-a6c4dae69d19",
    "_uuid": "8f2839f25d086af736a60e9eeb907d3b93b6e0e5",
    "execution": {
     "iopub.execute_input": "2022-03-24T23:37:06.356929Z",
     "iopub.status.busy": "2022-03-24T23:37:06.356349Z",
     "iopub.status.idle": "2022-03-24T23:39:03.583761Z",
     "shell.execute_reply": "2022-03-24T23:39:03.583108Z",
     "shell.execute_reply.started": "2022-03-24T23:18:33.579276Z"
    },
    "jupyter": {
     "source_hidden": true
    },
    "papermill": {
     "duration": 117.257441,
     "end_time": "2022-03-24T23:39:03.583926",
     "exception": false,
     "start_time": "2022-03-24T23:37:06.326485",
     "status": "completed"
    },
    "tags": []
   },
   "outputs": [],
   "source": [
    "# Python 3 environment comes with many helpful analytics libraries installed\n",
    "# It is defined by the kaggle/python Docker image: https://github.com/kaggle/docker-python\n",
    "# For example, here's several helpful packages to load\n",
    "\n",
    "import numpy as np # linear algebra\n",
    "import pandas as pd # data processing, CSV file I/O (e.g. pd.read_csv)\n",
    "\n",
    "# Input data files are available in the read-only \"../input/\" directory\n",
    "# For example, running this (by clicking run or pressing Shift+Enter) will list all files under the input directory\n",
    "\n",
    "import os\n",
    "for dirname, _, filenames in os.walk('/kaggle/input'):\n",
    "    for filename in filenames:\n",
    "        os.path.join(dirname, filename)\n",
    "\n",
    "# You can write up to 20GB to the current directory (/kaggle/working/) that gets preserved as output when you create a version using \"Save & Run All\" \n",
    "# You can also write temporary files to /kaggle/temp/, but they won't be saved outside of the current session"
   ]
  },
  {
   "cell_type": "markdown",
   "id": "f02c6b31",
   "metadata": {
    "papermill": {
     "duration": 0.018884,
     "end_time": "2022-03-24T23:39:03.622823",
     "exception": false,
     "start_time": "2022-03-24T23:39:03.603939",
     "status": "completed"
    },
    "tags": []
   },
   "source": [
    "# Importing the libraries <span id=\"1\"></span>"
   ]
  },
  {
   "cell_type": "code",
   "execution_count": 2,
   "id": "c500ad82",
   "metadata": {
    "execution": {
     "iopub.execute_input": "2022-03-24T23:39:03.666215Z",
     "iopub.status.busy": "2022-03-24T23:39:03.665562Z",
     "iopub.status.idle": "2022-03-24T23:39:05.192098Z",
     "shell.execute_reply": "2022-03-24T23:39:05.191645Z",
     "shell.execute_reply.started": "2022-03-24T23:21:50.936179Z"
    },
    "papermill": {
     "duration": 1.550328,
     "end_time": "2022-03-24T23:39:05.192223",
     "exception": false,
     "start_time": "2022-03-24T23:39:03.641895",
     "status": "completed"
    },
    "tags": []
   },
   "outputs": [],
   "source": [
    "\n",
    "import torchvision\n",
    "import torch\n",
    "import numpy as np\n",
    "from torch import nn\n",
    "from torchvision import transforms, models, datasets\n",
    "from torch.utils.data import DataLoader\n",
    "import torch.nn.functional as F\n",
    "import torch.optim as optim\n",
    "import time\n",
    "import pandas as pd\n",
    "import torchvision.datasets as datasets\n",
    "from IPython import display\n",
    "import matplotlib.pyplot as plt\n",
    "import torchvision.transforms\n"
   ]
  },
  {
   "cell_type": "markdown",
   "id": "8a4593ec",
   "metadata": {
    "papermill": {
     "duration": 0.018939,
     "end_time": "2022-03-24T23:39:05.232835",
     "exception": false,
     "start_time": "2022-03-24T23:39:05.213896",
     "status": "completed"
    },
    "tags": []
   },
   "source": [
    "> #### Setting up the data folder"
   ]
  },
  {
   "cell_type": "code",
   "execution_count": 3,
   "id": "65149c64",
   "metadata": {
    "execution": {
     "iopub.execute_input": "2022-03-24T23:39:05.276088Z",
     "iopub.status.busy": "2022-03-24T23:39:05.275277Z",
     "iopub.status.idle": "2022-03-24T23:39:05.277063Z",
     "shell.execute_reply": "2022-03-24T23:39:05.277537Z",
     "shell.execute_reply.started": "2022-03-24T23:21:52.552906Z"
    },
    "papermill": {
     "duration": 0.025131,
     "end_time": "2022-03-24T23:39:05.277673",
     "exception": false,
     "start_time": "2022-03-24T23:39:05.252542",
     "status": "completed"
    },
    "tags": []
   },
   "outputs": [],
   "source": [
    "data_dir = \"../input/cats-vs-dogs-1/PetImages\""
   ]
  },
  {
   "cell_type": "markdown",
   "id": "e512a522",
   "metadata": {
    "papermill": {
     "duration": 0.019005,
     "end_time": "2022-03-24T23:39:05.316121",
     "exception": false,
     "start_time": "2022-03-24T23:39:05.297116",
     "status": "completed"
    },
    "tags": []
   },
   "source": [
    "# Loading and transforming the images <span id=\"2\"></span>"
   ]
  },
  {
   "cell_type": "markdown",
   "id": "9b1553d8",
   "metadata": {
    "papermill": {
     "duration": 0.018948,
     "end_time": "2022-03-24T23:39:05.354110",
     "exception": false,
     "start_time": "2022-03-24T23:39:05.335162",
     "status": "completed"
    },
    "tags": []
   },
   "source": [
    "> #### The images are augmented and normalised here. We use \"ImageFolder\" where we have the directory in the specific format of images divided by each class as folders and path being defined as the main folder."
   ]
  },
  {
   "cell_type": "code",
   "execution_count": 4,
   "id": "da9c430d",
   "metadata": {
    "execution": {
     "iopub.execute_input": "2022-03-24T23:39:05.402879Z",
     "iopub.status.busy": "2022-03-24T23:39:05.402251Z",
     "iopub.status.idle": "2022-03-24T23:39:09.874996Z",
     "shell.execute_reply": "2022-03-24T23:39:09.875861Z",
     "shell.execute_reply.started": "2022-03-24T23:21:52.561756Z"
    },
    "papermill": {
     "duration": 4.500467,
     "end_time": "2022-03-24T23:39:09.876028",
     "exception": false,
     "start_time": "2022-03-24T23:39:05.375561",
     "status": "completed"
    },
    "tags": []
   },
   "outputs": [],
   "source": [
    "data_transforms = transforms.Compose([transforms.Resize([64,64]),\n",
    "                                      transforms.ToTensor(),\n",
    "                                      transforms.Normalize((0.485, 0.456, 0.406), (0.229, 0.224, 0.225))\n",
    "                                     ])\n",
    "\n",
    "training_data = datasets.ImageFolder(data_dir,transform = data_transforms)\n",
    "\n"
   ]
  },
  {
   "cell_type": "markdown",
   "id": "f3982cec",
   "metadata": {
    "papermill": {
     "duration": 0.033869,
     "end_time": "2022-03-24T23:39:09.945216",
     "exception": false,
     "start_time": "2022-03-24T23:39:09.911347",
     "status": "completed"
    },
    "tags": []
   },
   "source": [
    "# Splitting the dataset  <span id=\"3\"></span>"
   ]
  },
  {
   "cell_type": "markdown",
   "id": "d604fc91",
   "metadata": {
    "papermill": {
     "duration": 0.034293,
     "end_time": "2022-03-24T23:39:10.014215",
     "exception": false,
     "start_time": "2022-03-24T23:39:09.979922",
     "status": "completed"
    },
    "tags": []
   },
   "source": [
    "> #### I found out there are a lot are ways we can get the image data where the data is present as test and train directories, splitted by classes, or just a whole dump. This way below seems to be appropiate if get the format where the images are split by class as folders.\n",
    "\n",
    "> #### Here we simply split the training data to training, test and validation and get the loaders. Loaders is the 4 dimensional tensor which has (batch_size, channel, width, height) format."
   ]
  },
  {
   "cell_type": "code",
   "execution_count": 5,
   "id": "61dc4820",
   "metadata": {
    "execution": {
     "iopub.execute_input": "2022-03-24T23:39:10.089775Z",
     "iopub.status.busy": "2022-03-24T23:39:10.088896Z",
     "iopub.status.idle": "2022-03-24T23:39:10.096628Z",
     "shell.execute_reply": "2022-03-24T23:39:10.097145Z",
     "shell.execute_reply.started": "2022-03-24T23:21:57.195985Z"
    },
    "papermill": {
     "duration": 0.049183,
     "end_time": "2022-03-24T23:39:10.097278",
     "exception": false,
     "start_time": "2022-03-24T23:39:10.048095",
     "status": "completed"
    },
    "tags": []
   },
   "outputs": [],
   "source": [
    "from torch.utils.data import SubsetRandomSampler\n",
    "\n",
    "valid_size = 0.20\n",
    "test_size = 0.10\n",
    "# Split data into train and validation set\n",
    "num_train = len(training_data)\n",
    "indices = list(range(num_train))\n",
    "np.random.shuffle(indices)\n",
    "#print(indices)\n",
    "split1 = int(np.floor(valid_size * num_train))\n",
    "split2 = int(np.floor(test_size*num_train)) + split1\n",
    "#print(split1,split2)\n",
    "valid_idx, test_idx, train_idx = indices[:split1], indices[split1:split2],indices[split2:]\n",
    "\n",
    "training_data1 = SubsetRandomSampler(train_idx)\n",
    "valid_data1 = SubsetRandomSampler(valid_idx)\n",
    "test_data1 = SubsetRandomSampler(test_idx)\n",
    "\n",
    "training_loader = DataLoader(training_data, sampler = training_data1,batch_size = 25)\n",
    "valid_loader = DataLoader(training_data, sampler = valid_data1, batch_size = 25)\n",
    "test_loader = DataLoader(training_data, sampler = test_data1,batch_size = 25)"
   ]
  },
  {
   "cell_type": "markdown",
   "id": "5a50c99b",
   "metadata": {
    "papermill": {
     "duration": 0.030628,
     "end_time": "2022-03-24T23:39:10.159482",
     "exception": false,
     "start_time": "2022-03-24T23:39:10.128854",
     "status": "completed"
    },
    "tags": []
   },
   "source": [
    "# Taking a look at the normalised images <span id=\"4\"></span>"
   ]
  },
  {
   "cell_type": "code",
   "execution_count": 6,
   "id": "2b743762",
   "metadata": {
    "execution": {
     "iopub.execute_input": "2022-03-24T23:39:10.221491Z",
     "iopub.status.busy": "2022-03-24T23:39:10.220844Z",
     "iopub.status.idle": "2022-03-24T23:39:14.963287Z",
     "shell.execute_reply": "2022-03-24T23:39:14.963749Z",
     "shell.execute_reply.started": "2022-03-24T23:21:57.208156Z"
    },
    "papermill": {
     "duration": 4.772759,
     "end_time": "2022-03-24T23:39:14.963935",
     "exception": false,
     "start_time": "2022-03-24T23:39:10.191176",
     "status": "completed"
    },
    "tags": []
   },
   "outputs": [
    {
     "data": {
      "image/png": "[encoded data removed]",
      "text/plain": [
       "<Figure size 1152x1152 with 16 Axes>"
      ]
     },
     "metadata": {
      "needs_background": "light"
     },
     "output_type": "display_data"
    }
   ],
   "source": [
    "g = 1\n",
    "rows = 4\n",
    "cols = 4\n",
    "figure = plt.figure(figsize=(16, 16))\n",
    "for i,j in training_loader:    \n",
    "    figure.add_subplot(rows, cols, g)\n",
    "    for img in i:        \n",
    "        img = img.swapaxes(0, 1)\n",
    "        img = img.swapaxes(1, 2)\n",
    "        plt.imshow(img, cmap=\"gray\", interpolation='nearest', aspect='auto')        \n",
    "        break\n",
    "    g += 1    \n",
    "    if g > 16:\n",
    "        break\n",
    "plt.show()       "
   ]
  },
  {
   "cell_type": "markdown",
   "id": "f270e5c9",
   "metadata": {
    "papermill": {
     "duration": 0.022866,
     "end_time": "2022-03-24T23:39:15.010568",
     "exception": false,
     "start_time": "2022-03-24T23:39:14.987702",
     "status": "completed"
    },
    "tags": []
   },
   "source": [
    "# Creating Custom CNN network <span id=\"5\"></span>"
   ]
  },
  {
   "cell_type": "markdown",
   "id": "24b2bdf9",
   "metadata": {
    "papermill": {
     "duration": 0.022385,
     "end_time": "2022-03-24T23:39:15.055808",
     "exception": false,
     "start_time": "2022-03-24T23:39:15.033423",
     "status": "completed"
    },
    "tags": []
   },
   "source": [
    "> ### Here are the key points when making a custom CNN model\n",
    "\n",
    "> * The formula O = ((I - f + 2p)/s) + 1 is used to keep track of the output image size where O is the output image size, f is the kernal size, p is the padding, s is the stride.\n",
    "\n",
    "> * Paramenters are calculated by ((NxNxC + 1)K) where N is the kernal size , C is the input channel and K is the output channels\n",
    "\n",
    "> * In the model below the kernal_size of 3 and padding 1 means that the outout image size is equal to the input image size. Howvever, the MaxPool2d, which has the kernal_size of 2 and stride of 2 halves the height and width of the image.\n",
    "\n",
    "> * Linear layer nodes are calculated by the product of input image size (NxN) and the out oput channels. Here it's 4x4x256\n",
    "\n",
    "> * Parameters of the Linear layer is calculates by (N1+1)N2 where N1 is the number of nodes in the previous layer and N2 is the number of nodes in the current layer\n"
   ]
  },
  {
   "cell_type": "code",
   "execution_count": 7,
   "id": "afb09b51",
   "metadata": {
    "execution": {
     "iopub.execute_input": "2022-03-24T23:39:15.113545Z",
     "iopub.status.busy": "2022-03-24T23:39:15.112735Z",
     "iopub.status.idle": "2022-03-24T23:39:17.864555Z",
     "shell.execute_reply": "2022-03-24T23:39:17.864068Z",
     "shell.execute_reply.started": "2022-03-24T23:22:02.354706Z"
    },
    "papermill": {
     "duration": 2.786319,
     "end_time": "2022-03-24T23:39:17.864691",
     "exception": false,
     "start_time": "2022-03-24T23:39:15.078372",
     "status": "completed"
    },
    "tags": []
   },
   "outputs": [
    {
     "data": {
      "text/plain": [
       "CNNModel(\n",
       "  (features): Sequential(\n",
       "    (0): Conv2d(3, 64, kernel_size=(3, 3), stride=(1, 1), padding=(1, 1))\n",
       "    (1): ReLU()\n",
       "    (2): MaxPool2d(kernel_size=2, stride=2, padding=0, dilation=1, ceil_mode=False)\n",
       "    (3): Conv2d(64, 128, kernel_size=(3, 3), stride=(1, 1), padding=(1, 1))\n",
       "    (4): ReLU()\n",
       "    (5): MaxPool2d(kernel_size=2, stride=2, padding=0, dilation=1, ceil_mode=False)\n",
       "    (6): Conv2d(128, 256, kernel_size=(3, 3), stride=(1, 1), padding=(1, 1))\n",
       "    (7): ReLU()\n",
       "    (8): MaxPool2d(kernel_size=2, stride=2, padding=0, dilation=1, ceil_mode=False)\n",
       "    (9): Conv2d(256, 256, kernel_size=(3, 3), stride=(1, 1), padding=(1, 1))\n",
       "    (10): ReLU()\n",
       "    (11): MaxPool2d(kernel_size=2, stride=2, padding=0, dilation=1, ceil_mode=False)\n",
       "  )\n",
       "  (classifier): Sequential(\n",
       "    (0): Dropout(p=0.5, inplace=False)\n",
       "    (1): Linear(in_features=4096, out_features=1024, bias=True)\n",
       "    (2): ReLU()\n",
       "    (3): Dropout(p=0.5, inplace=False)\n",
       "    (4): Linear(in_features=1024, out_features=2, bias=True)\n",
       "  )\n",
       ")"
      ]
     },
     "execution_count": 7,
     "metadata": {},
     "output_type": "execute_result"
    }
   ],
   "source": [
    "device =  torch.device('cuda' if torch.cuda.is_available else 'cpu')\n",
    "\n",
    "class CNNModel(nn.Module):\n",
    "    def __init__(self, num_classes):\n",
    "\n",
    "        super(CNNModel, self).__init__()\n",
    "        self.features = nn.Sequential(\n",
    "        nn.Conv2d(3, 64, kernel_size=3, padding=1), #input image 64x64 - Parameters = (3x3x3 + 1)*64\n",
    "        nn.ReLU(),\n",
    "        nn.MaxPool2d(kernel_size = 2, stride = 2),\n",
    "        nn.Conv2d(64,128, kernel_size = 3,padding = 1), #input image 32x32 - Parameters = (3x3x64 + 1)*128\n",
    "        nn.ReLU(),\n",
    "        nn.MaxPool2d(kernel_size = 2, stride = 2),\n",
    "        nn.Conv2d(128, 256, kernel_size=3, padding=1), #input image 16x16 - Parameters = (3x3x128 + 1)*256\n",
    "        nn.ReLU(),\n",
    "        nn.MaxPool2d(kernel_size=2, stride=2),\n",
    "        nn.Conv2d(256, 256, kernel_size=3, padding=1), #input image 8x8 - Parameters = (3x3x256 + 1)*256\n",
    "        nn.ReLU(),\n",
    "        nn.MaxPool2d(kernel_size=2, stride=2) #output image 4x4\n",
    "        )\n",
    "        \n",
    "        self.classifier = nn.Sequential(\n",
    "        nn.Dropout(),\n",
    "        nn.Linear(4*4*256,1024), #Parameters - (4x4x256 + 1)(1024)\n",
    "        nn.ReLU(),\n",
    "        nn.Dropout(),\n",
    "        nn.Linear(1024, num_classes) #Parameters - (1024 + 1)(2)\n",
    "        )\n",
    "\n",
    "    def forward(self, x):\n",
    "        x = self.features(x)\n",
    "        x = torch.flatten(x, 1)\n",
    "        x = self.classifier(x)\n",
    "        return x\n",
    "    \n",
    "    \n",
    "model = CNNModel(num_classes=2)\n",
    "criterion = nn.CrossEntropyLoss()\n",
    "optimizer = torch.optim.Adam(model.parameters(), lr= 0.001)\n",
    "model.to(device)"
   ]
  },
  {
   "cell_type": "markdown",
   "id": "08d087d1",
   "metadata": {
    "papermill": {
     "duration": 0.023761,
     "end_time": "2022-03-24T23:39:17.911650",
     "exception": false,
     "start_time": "2022-03-24T23:39:17.887889",
     "status": "completed"
    },
    "tags": []
   },
   "source": []
  },
  {
   "cell_type": "markdown",
   "id": "91cc43b8",
   "metadata": {
    "papermill": {
     "duration": 0.022686,
     "end_time": "2022-03-24T23:39:17.957416",
     "exception": false,
     "start_time": "2022-03-24T23:39:17.934730",
     "status": "completed"
    },
    "tags": []
   },
   "source": [
    "# Transfer learning - VGG16 <span id=\"6\"></span>"
   ]
  },
  {
   "cell_type": "markdown",
   "id": "14ef210f",
   "metadata": {
    "papermill": {
     "duration": 0.022741,
     "end_time": "2022-03-24T23:39:18.003456",
     "exception": false,
     "start_time": "2022-03-24T23:39:17.980715",
     "status": "completed"
    },
    "tags": []
   },
   "source": [
    "> * #### This is pretty straight forward. We freeze the CNN part of the network and train the linear network completely with the images."
   ]
  },
  {
   "cell_type": "code",
   "execution_count": 8,
   "id": "acd1ccda",
   "metadata": {
    "execution": {
     "iopub.execute_input": "2022-03-24T23:39:18.056276Z",
     "iopub.status.busy": "2022-03-24T23:39:18.055467Z",
     "iopub.status.idle": "2022-03-24T23:39:22.516175Z",
     "shell.execute_reply": "2022-03-24T23:39:22.516737Z",
     "shell.execute_reply.started": "2022-03-24T23:22:05.331298Z"
    },
    "papermill": {
     "duration": 4.490725,
     "end_time": "2022-03-24T23:39:22.516896",
     "exception": false,
     "start_time": "2022-03-24T23:39:18.026171",
     "status": "completed"
    },
    "tags": []
   },
   "outputs": [
    {
     "name": "stderr",
     "output_type": "stream",
     "text": [
      "Downloading: \"https://download.pytorch.org/models/vgg16-397923af.pth\" to /root/.cache/torch/hub/checkpoints/vgg16-397923af.pth\n"
     ]
    },
    {
     "data": {
      "application/vnd.jupyter.widget-view+json": {
       "model_id": "31594fb44191496a8d265f32e5d9db31",
       "version_major": 2,
       "version_minor": 0
      },
      "text/plain": [
       "  0%|          | 0.00/528M [00:00<?, ?B/s]"
      ]
     },
     "metadata": {},
     "output_type": "display_data"
    },
    {
     "data": {
      "text/plain": [
       "VGG(\n",
       "  (features): Sequential(\n",
       "    (0): Conv2d(3, 64, kernel_size=(3, 3), stride=(1, 1), padding=(1, 1))\n",
       "    (1): ReLU(inplace=True)\n",
       "    (2): Conv2d(64, 64, kernel_size=(3, 3), stride=(1, 1), padding=(1, 1))\n",
       "    (3): ReLU(inplace=True)\n",
       "    (4): MaxPool2d(kernel_size=2, stride=2, padding=0, dilation=1, ceil_mode=False)\n",
       "    (5): Conv2d(64, 128, kernel_size=(3, 3), stride=(1, 1), padding=(1, 1))\n",
       "    (6): ReLU(inplace=True)\n",
       "    (7): Conv2d(128, 128, kernel_size=(3, 3), stride=(1, 1), padding=(1, 1))\n",
       "    (8): ReLU(inplace=True)\n",
       "    (9): MaxPool2d(kernel_size=2, stride=2, padding=0, dilation=1, ceil_mode=False)\n",
       "    (10): Conv2d(128, 256, kernel_size=(3, 3), stride=(1, 1), padding=(1, 1))\n",
       "    (11): ReLU(inplace=True)\n",
       "    (12): Conv2d(256, 256, kernel_size=(3, 3), stride=(1, 1), padding=(1, 1))\n",
       "    (13): ReLU(inplace=True)\n",
       "    (14): Conv2d(256, 256, kernel_size=(3, 3), stride=(1, 1), padding=(1, 1))\n",
       "    (15): ReLU(inplace=True)\n",
       "    (16): MaxPool2d(kernel_size=2, stride=2, padding=0, dilation=1, ceil_mode=False)\n",
       "    (17): Conv2d(256, 512, kernel_size=(3, 3), stride=(1, 1), padding=(1, 1))\n",
       "    (18): ReLU(inplace=True)\n",
       "    (19): Conv2d(512, 512, kernel_size=(3, 3), stride=(1, 1), padding=(1, 1))\n",
       "    (20): ReLU(inplace=True)\n",
       "    (21): Conv2d(512, 512, kernel_size=(3, 3), stride=(1, 1), padding=(1, 1))\n",
       "    (22): ReLU(inplace=True)\n",
       "    (23): MaxPool2d(kernel_size=2, stride=2, padding=0, dilation=1, ceil_mode=False)\n",
       "    (24): Conv2d(512, 512, kernel_size=(3, 3), stride=(1, 1), padding=(1, 1))\n",
       "    (25): ReLU(inplace=True)\n",
       "    (26): Conv2d(512, 512, kernel_size=(3, 3), stride=(1, 1), padding=(1, 1))\n",
       "    (27): ReLU(inplace=True)\n",
       "    (28): Conv2d(512, 512, kernel_size=(3, 3), stride=(1, 1), padding=(1, 1))\n",
       "    (29): ReLU(inplace=True)\n",
       "    (30): MaxPool2d(kernel_size=2, stride=2, padding=0, dilation=1, ceil_mode=False)\n",
       "  )\n",
       "  (avgpool): AdaptiveAvgPool2d(output_size=(1, 1))\n",
       "  (classifier): Sequential(\n",
       "    (0): Flatten(start_dim=1, end_dim=-1)\n",
       "    (1): Linear(in_features=512, out_features=128, bias=True)\n",
       "    (2): ReLU()\n",
       "    (3): Dropout(p=0.2, inplace=False)\n",
       "    (4): Linear(in_features=128, out_features=2, bias=True)\n",
       "    (5): Sigmoid()\n",
       "  )\n",
       ")"
      ]
     },
     "execution_count": 8,
     "metadata": {},
     "output_type": "execute_result"
    }
   ],
   "source": [
    "model1 = models.vgg16(pretrained=True)\n",
    "for param in model1.parameters():\n",
    "    param.requires_grad = False\n",
    "model1.avgpool = nn.AdaptiveAvgPool2d(output_size=(1,1))\n",
    "model1.classifier = nn.Sequential(nn.Flatten(),\n",
    "nn.Linear(512, 128),\n",
    "nn.ReLU(),\n",
    "nn.Dropout(0.2),\n",
    "nn.Linear(128, 2),\n",
    "nn.Sigmoid())\n",
    "\n",
    "criterion1 = nn.BCELoss()\n",
    "optimizer1 = torch.optim.Adam(model1.parameters(), lr= 1e-3)\n",
    "\n",
    "model1.to(device)"
   ]
  },
  {
   "cell_type": "markdown",
   "id": "3e437b38",
   "metadata": {
    "papermill": {
     "duration": 0.024078,
     "end_time": "2022-03-24T23:39:22.565580",
     "exception": false,
     "start_time": "2022-03-24T23:39:22.541502",
     "status": "completed"
    },
    "tags": []
   },
   "source": [
    "# Training the model"
   ]
  },
  {
   "cell_type": "markdown",
   "id": "8d1f1a90",
   "metadata": {
    "papermill": {
     "duration": 0.024177,
     "end_time": "2022-03-24T23:39:22.613841",
     "exception": false,
     "start_time": "2022-03-24T23:39:22.589664",
     "status": "completed"
    },
    "tags": []
   },
   "source": [
    "> * #### I found the code below pretty standard and being used a lot of times and we simply call it to train any tyoe of model."
   ]
  },
  {
   "cell_type": "code",
   "execution_count": 9,
   "id": "8f220d8e",
   "metadata": {
    "execution": {
     "iopub.execute_input": "2022-03-24T23:39:22.677714Z",
     "iopub.status.busy": "2022-03-24T23:39:22.676904Z",
     "iopub.status.idle": "2022-03-24T23:39:22.678903Z",
     "shell.execute_reply": "2022-03-24T23:39:22.679297Z",
     "shell.execute_reply.started": "2022-03-24T23:22:18.553226Z"
    },
    "papermill": {
     "duration": 0.041493,
     "end_time": "2022-03-24T23:39:22.679444",
     "exception": false,
     "start_time": "2022-03-24T23:39:22.637951",
     "status": "completed"
    },
    "tags": []
   },
   "outputs": [],
   "source": [
    "import time\n",
    "\n",
    "def train(model, optimizer, loss_fn, train_dl, val_dl, epochs=100, device='cpu'):\n",
    "\n",
    "    print('train() called: model=%s, opt=%s(lr=%f), epochs=%d, device=%s\\n' % \\\n",
    "          (type(model).__name__, type(optimizer).__name__,\n",
    "           optimizer.param_groups[0]['lr'], epochs, device))\n",
    "\n",
    "    history = {} # Collects per-epoch loss and acc like Keras' fit().\n",
    "    history['loss'] = []\n",
    "    history['val_loss'] = []\n",
    "    history['acc'] = []\n",
    "    history['val_acc'] = []\n",
    "\n",
    "    start_time_sec = time.time()\n",
    "\n",
    "    for epoch in range(1, epochs+1):\n",
    "\n",
    "        # --- TRAIN AND EVALUATE ON TRAINING SET -----------------------------\n",
    "        model.train()\n",
    "        train_loss         = 0.0\n",
    "        num_train_correct  = 0\n",
    "        num_train_examples = 0\n",
    "\n",
    "        for batch in train_dl:\n",
    "\n",
    "            optimizer.zero_grad()\n",
    "\n",
    "            x    = batch[0].to(device)\n",
    "            y    = batch[1].to(device)\n",
    "            yhat = model(x)\n",
    "            loss = loss_fn(yhat, y)\n",
    "\n",
    "            loss.backward()\n",
    "            optimizer.step()\n",
    "\n",
    "            train_loss         += loss.data.item() * x.size(0)\n",
    "            num_train_correct  += (torch.max(yhat, 1)[1] == y).sum().item()\n",
    "            num_train_examples += x.shape[0]\n",
    "\n",
    "        train_acc   = num_train_correct / num_train_examples\n",
    "        train_loss  = train_loss / len(train_dl.dataset)\n",
    "\n",
    "\n",
    "        # --- EVALUATE ON VALIDATION SET -------------------------------------\n",
    "        model.eval()\n",
    "        val_loss       = 0.0\n",
    "        num_val_correct  = 0\n",
    "        num_val_examples = 0\n",
    "\n",
    "        for batch in val_dl:\n",
    "\n",
    "            x    = batch[0].to(device)\n",
    "            y    = batch[1].to(device)\n",
    "            yhat = model(x)\n",
    "            loss = loss_fn(yhat, y)\n",
    "\n",
    "            val_loss         += loss.data.item() * x.size(0)\n",
    "            num_val_correct  += (torch.max(yhat, 1)[1] == y).sum().item()\n",
    "            num_val_examples += y.shape[0]\n",
    "\n",
    "        val_acc  = num_val_correct / num_val_examples\n",
    "        val_loss = val_loss / len(val_dl.dataset)\n",
    "\n",
    "\n",
    "        if epoch == 1 or epoch % 10 == 0:\n",
    "          print('Epoch %3d/%3d, train loss: %5.2f, train acc: %5.2f, val loss: %5.2f, val acc: %5.2f' % \\\n",
    "                (epoch, epochs, train_loss, train_acc, val_loss, val_acc))\n",
    "\n",
    "        history['loss'].append(train_loss)\n",
    "        history['val_loss'].append(val_loss)\n",
    "        history['acc'].append(train_acc)\n",
    "        history['val_acc'].append(val_acc)\n",
    "\n",
    "    # END OF TRAINING LOOP\n",
    "\n",
    "\n",
    "    end_time_sec       = time.time()\n",
    "    total_time_sec     = end_time_sec - start_time_sec\n",
    "    time_per_epoch_sec = total_time_sec / epochs\n",
    "    print()\n",
    "    print('Time total:     %5.2f sec' % (total_time_sec))\n",
    "    print('Time per epoch: %5.2f sec' % (time_per_epoch_sec))\n",
    "\n",
    "    return history"
   ]
  },
  {
   "cell_type": "markdown",
   "id": "0ae543b2",
   "metadata": {
    "papermill": {
     "duration": 0.023817,
     "end_time": "2022-03-24T23:39:22.727857",
     "exception": false,
     "start_time": "2022-03-24T23:39:22.704040",
     "status": "completed"
    },
    "tags": []
   },
   "source": [
    "# Training Custom model <span id=\"7\"></span>"
   ]
  },
  {
   "cell_type": "code",
   "execution_count": 10,
   "id": "60478ace",
   "metadata": {
    "execution": {
     "iopub.execute_input": "2022-03-24T23:39:22.780496Z",
     "iopub.status.busy": "2022-03-24T23:39:22.779789Z",
     "iopub.status.idle": "2022-03-24T23:55:45.560378Z",
     "shell.execute_reply": "2022-03-24T23:55:45.560986Z"
    },
    "papermill": {
     "duration": 982.809457,
     "end_time": "2022-03-24T23:55:45.561200",
     "exception": false,
     "start_time": "2022-03-24T23:39:22.751743",
     "status": "completed"
    },
    "tags": []
   },
   "outputs": [
    {
     "name": "stdout",
     "output_type": "stream",
     "text": [
      "train() called: model=CNNModel, opt=Adam(lr=0.001000), epochs=10, device=cuda\n",
      "\n",
      "Epoch   1/ 10, train loss:  0.44, train acc:  0.64, val loss:  0.11, val acc:  0.73\n",
      "Epoch  10/ 10, train loss:  0.19, train acc:  0.88, val loss:  0.07, val acc:  0.84\n",
      "\n",
      "Time total:     982.75 sec\n",
      "Time per epoch: 98.28 sec\n"
     ]
    }
   ],
   "source": [
    "history = train(model, optimizer,criterion, training_loader,valid_loader, epochs=10, device=device)"
   ]
  },
  {
   "cell_type": "code",
   "execution_count": 11,
   "id": "7761ddd0",
   "metadata": {
    "execution": {
     "iopub.execute_input": "2022-03-24T23:55:45.663222Z",
     "iopub.status.busy": "2022-03-24T23:55:45.636103Z",
     "iopub.status.idle": "2022-03-24T23:55:45.973122Z",
     "shell.execute_reply": "2022-03-24T23:55:45.973557Z"
    },
    "papermill": {
     "duration": 0.386104,
     "end_time": "2022-03-24T23:55:45.973713",
     "exception": false,
     "start_time": "2022-03-24T23:55:45.587609",
     "status": "completed"
    },
    "tags": []
   },
   "outputs": [
    {
     "data": {
      "image/png": "[encoded data removed]",
      "text/plain": [
       "<Figure size 432x288 with 1 Axes>"
      ]
     },
     "metadata": {
      "needs_background": "light"
     },
     "output_type": "display_data"
    },
    {
     "data": {
      "image/png": "[encoded data removed]",
      "text/plain": [
       "<Figure size 432x288 with 1 Axes>"
      ]
     },
     "metadata": {
      "needs_background": "light"
     },
     "output_type": "display_data"
    }
   ],
   "source": [
    "\n",
    "import matplotlib.pyplot as plt\n",
    "\n",
    "acc = history['acc']\n",
    "val_acc = history['val_acc']\n",
    "loss = history['loss']\n",
    "val_loss = history['val_loss']\n",
    "epochs = range(1, len(acc) + 1)\n",
    "\n",
    "plt.plot(epochs, acc, 'b', label='Training acc')\n",
    "plt.plot(epochs, val_acc, 'r', label='Validation acc')\n",
    "plt.title('Training and validation accuracy')\n",
    "plt.legend()\n",
    "plt.figure()\n",
    "plt.plot(epochs, loss, 'b', label='Training loss')\n",
    "plt.plot(epochs, val_loss, 'r', label='Validation loss')\n",
    "plt.title('Training and validation loss')\n",
    "plt.legend()\n",
    "plt.show()\n"
   ]
  },
  {
   "cell_type": "markdown",
   "id": "0e5eaf05",
   "metadata": {
    "papermill": {
     "duration": 0.02679,
     "end_time": "2022-03-24T23:55:46.029142",
     "exception": false,
     "start_time": "2022-03-24T23:55:46.002352",
     "status": "completed"
    },
    "tags": []
   },
   "source": [
    "# Training VGG16 model <span id=\"8\"></span>"
   ]
  },
  {
   "cell_type": "code",
   "execution_count": 12,
   "id": "39c9d28b",
   "metadata": {
    "execution": {
     "iopub.execute_input": "2022-03-24T23:55:46.088870Z",
     "iopub.status.busy": "2022-03-24T23:55:46.088147Z",
     "iopub.status.idle": "2022-03-25T00:11:46.658808Z",
     "shell.execute_reply": "2022-03-25T00:11:46.659316Z"
    },
    "papermill": {
     "duration": 960.603202,
     "end_time": "2022-03-25T00:11:46.659523",
     "exception": false,
     "start_time": "2022-03-24T23:55:46.056321",
     "status": "completed"
    },
    "tags": []
   },
   "outputs": [
    {
     "name": "stdout",
     "output_type": "stream",
     "text": [
      "train() called: model=VGG, opt=Adam(lr=0.001000), epochs=10, device=cuda\n",
      "\n",
      "Epoch   1/ 10, train loss:  0.30, train acc:  0.88, val loss:  0.08, val acc:  0.90\n",
      "Epoch  10/ 10, train loss:  0.26, train acc:  0.95, val loss:  0.08, val acc:  0.90\n",
      "\n",
      "Time total:     960.52 sec\n",
      "Time per epoch: 96.05 sec\n"
     ]
    }
   ],
   "source": [
    "history1 = train(model1, optimizer1,criterion, training_loader,valid_loader, epochs=10, device=device)"
   ]
  },
  {
   "cell_type": "code",
   "execution_count": 13,
   "id": "a040253c",
   "metadata": {
    "execution": {
     "iopub.execute_input": "2022-03-25T00:11:46.724209Z",
     "iopub.status.busy": "2022-03-25T00:11:46.723405Z",
     "iopub.status.idle": "2022-03-25T00:11:47.056916Z",
     "shell.execute_reply": "2022-03-25T00:11:47.056142Z"
    },
    "papermill": {
     "duration": 0.368134,
     "end_time": "2022-03-25T00:11:47.057068",
     "exception": false,
     "start_time": "2022-03-25T00:11:46.688934",
     "status": "completed"
    },
    "tags": []
   },
   "outputs": [
    {
     "data": {
      "image/png": "[encoded data removed]",
      "text/plain": [
       "<Figure size 432x288 with 1 Axes>"
      ]
     },
     "metadata": {
      "needs_background": "light"
     },
     "output_type": "display_data"
    },
    {
     "data": {
      "image/png": "[encoded data removed]",
      "text/plain": [
       "<Figure size 432x288 with 1 Axes>"
      ]
     },
     "metadata": {
      "needs_background": "light"
     },
     "output_type": "display_data"
    }
   ],
   "source": [
    "acc = history1['acc']\n",
    "val_acc = history1['val_acc']\n",
    "loss = history1['loss']\n",
    "val_loss = history1['val_loss']\n",
    "epochs = range(1, len(acc) + 1)\n",
    "\n",
    "plt.plot(epochs, acc, 'b', label='Training acc')\n",
    "plt.plot(epochs, val_acc, 'r', label='Validation acc')\n",
    "plt.title('Training and validation accuracy')\n",
    "plt.legend()\n",
    "plt.figure()\n",
    "plt.plot(epochs, loss, 'b', label='Training loss')\n",
    "plt.plot(epochs, val_loss, 'r', label='Validation loss')\n",
    "plt.title('Training and validation loss')\n",
    "plt.legend()\n",
    "plt.show()"
   ]
  }
 ],
 "metadata": {
  "kernelspec": {
   "display_name": "Python 3",
   "language": "python",
   "name": "python3"
  },
  "language_info": {
   "codemirror_mode": {
    "name": "ipython",
    "version": 3
   },
   "file_extension": ".py",
   "mimetype": "text/x-python",
   "name": "python",
   "nbconvert_exporter": "python",
   "pygments_lexer": "ipython3",
   "version": "3.7.12"
  },
  "papermill": {
   "default_parameters": {},
   "duration": 2090.4478,
   "end_time": "2022-03-25T00:11:48.503487",
   "environment_variables": {},
   "exception": null,
   "input_path": "__notebook__.ipynb",
   "output_path": "__notebook__.ipynb",
   "parameters": {},
   "start_time": "2022-03-24T23:36:58.055687",
   "version": "2.3.3"
  },
  "widgets": {
   "application/vnd.jupyter.widget-state+json": {
    "state": {
     "04a3049eb1d54d639a8c80831f8e1dd0": {
      "model_module": "@jupyter-widgets/base",
      "model_module_version": "1.2.0",
      "model_name": "LayoutModel",
      "state": {
       "_model_module": "@jupyter-widgets/base",
       "_model_module_version": "1.2.0",
       "_model_name": "LayoutModel",
       "_view_count": null,
       "_view_module": "@jupyter-widgets/base",
       "_view_module_version": "1.2.0",
       "_view_name": "LayoutView",
       "align_content": null,
       "align_items": null,
       "align_self": null,
       "border": null,
       "bottom": null,
       "display": null,
       "flex": null,
       "flex_flow": null,
       "grid_area": null,
       "grid_auto_columns": null,
       "grid_auto_flow": null,
       "grid_auto_rows": null,
       "grid_column": null,
       "grid_gap": null,
       "grid_row": null,
       "grid_template_areas": null,
       "grid_template_columns": null,
       "grid_template_rows": null,
       "height": null,
       "justify_content": null,
       "justify_items": null,
       "left": null,
       "margin": null,
       "max_height": null,
       "max_width": null,
       "min_height": null,
       "min_width": null,
       "object_fit": null,
       "object_position": null,
       "order": null,
       "overflow": null,
       "overflow_x": null,
       "overflow_y": null,
       "padding": null,
       "right": null,
       "top": null,
       "visibility": null,
       "width": null
      }
     },
     "0d6383a73d6b4a02a5edc453bfcab20a": {
      "model_module": "@jupyter-widgets/controls",
      "model_module_version": "1.5.0",
      "model_name": "HTMLModel",
      "state": {
       "_dom_classes": [],
       "_model_module": "@jupyter-widgets/controls",
       "_model_module_version": "1.5.0",
       "_model_name": "HTMLModel",
       "_view_count": null,
       "_view_module": "@jupyter-widgets/controls",
       "_view_module_version": "1.5.0",
       "_view_name": "HTMLView",
       "description": "",
       "description_tooltip": null,
       "layout": "IPY_MODEL_69774ba148cd4c35affeeb844e7d7ac2",
       "placeholder": "​",
       "style": "IPY_MODEL_52cb53a2199348e284fe54125d0576b4",
       "value": "100%"
      }
     },
     "31594fb44191496a8d265f32e5d9db31": {
      "model_module": "@jupyter-widgets/controls",
      "model_module_version": "1.5.0",
      "model_name": "HBoxModel",
      "state": {
       "_dom_classes": [],
       "_model_module": "@jupyter-widgets/controls",
       "_model_module_version": "1.5.0",
       "_model_name": "HBoxModel",
       "_view_count": null,
       "_view_module": "@jupyter-widgets/controls",
       "_view_module_version": "1.5.0",
       "_view_name": "HBoxView",
       "box_style": "",
       "children": [
        "IPY_MODEL_0d6383a73d6b4a02a5edc453bfcab20a",
        "IPY_MODEL_7bc0eee518cd46cb907dad67878dbed3",
        "IPY_MODEL_c113df5e42ce4ffc832e24b51d12e2df"
       ],
       "layout": "IPY_MODEL_c103a8cdf782461a8f02e4af6f658f47"
      }
     },
     "338c492bf4de48a3a11b6545ad23acde": {
      "model_module": "@jupyter-widgets/controls",
      "model_module_version": "1.5.0",
      "model_name": "DescriptionStyleModel",
      "state": {
       "_model_module": "@jupyter-widgets/controls",
       "_model_module_version": "1.5.0",
       "_model_name": "DescriptionStyleModel",
       "_view_count": null,
       "_view_module": "@jupyter-widgets/base",
       "_view_module_version": "1.2.0",
       "_view_name": "StyleView",
       "description_width": ""
      }
     },
     "52cb53a2199348e284fe54125d0576b4": {
      "model_module": "@jupyter-widgets/controls",
      "model_module_version": "1.5.0",
      "model_name": "DescriptionStyleModel",
      "state": {
       "_model_module": "@jupyter-widgets/controls",
       "_model_module_version": "1.5.0",
       "_model_name": "DescriptionStyleModel",
       "_view_count": null,
       "_view_module": "@jupyter-widgets/base",
       "_view_module_version": "1.2.0",
       "_view_name": "StyleView",
       "description_width": ""
      }
     },
     "69774ba148cd4c35affeeb844e7d7ac2": {
      "model_module": "@jupyter-widgets/base",
      "model_module_version": "1.2.0",
      "model_name": "LayoutModel",
      "state": {
       "_model_module": "@jupyter-widgets/base",
       "_model_module_version": "1.2.0",
       "_model_name": "LayoutModel",
       "_view_count": null,
       "_view_module": "@jupyter-widgets/base",
       "_view_module_version": "1.2.0",
       "_view_name": "LayoutView",
       "align_content": null,
       "align_items": null,
       "align_self": null,
       "border": null,
       "bottom": null,
       "display": null,
       "flex": null,
       "flex_flow": null,
       "grid_area": null,
       "grid_auto_columns": null,
       "grid_auto_flow": null,
       "grid_auto_rows": null,
       "grid_column": null,
       "grid_gap": null,
       "grid_row": null,
       "grid_template_areas": null,
       "grid_template_columns": null,
       "grid_template_rows": null,
       "height": null,
       "justify_content": null,
       "justify_items": null,
       "left": null,
       "margin": null,
       "max_height": null,
       "max_width": null,
       "min_height": null,
       "min_width": null,
       "object_fit": null,
       "object_position": null,
       "order": null,
       "overflow": null,
       "overflow_x": null,
       "overflow_y": null,
       "padding": null,
       "right": null,
       "top": null,
       "visibility": null,
       "width": null
      }
     },
     "7bc0eee518cd46cb907dad67878dbed3": {
      "model_module": "@jupyter-widgets/controls",
      "model_module_version": "1.5.0",
      "model_name": "FloatProgressModel",
      "state": {
       "_dom_classes": [],
       "_model_module": "@jupyter-widgets/controls",
       "_model_module_version": "1.5.0",
       "_model_name": "FloatProgressModel",
       "_view_count": null,
       "_view_module": "@jupyter-widgets/controls",
       "_view_module_version": "1.5.0",
       "_view_name": "ProgressView",
       "bar_style": "success",
       "description": "",
       "description_tooltip": null,
       "layout": "IPY_MODEL_04a3049eb1d54d639a8c80831f8e1dd0",
       "max": 553433881.0,
       "min": 0.0,
       "orientation": "horizontal",
       "style": "IPY_MODEL_c811a984928e4ae1a7c97cd3e56ee0e9",
       "value": 553433881.0
      }
     },
     "8aa6235f94c84a19bd34157f248575b9": {
      "model_module": "@jupyter-widgets/base",
      "model_module_version": "1.2.0",
      "model_name": "LayoutModel",
      "state": {
       "_model_module": "@jupyter-widgets/base",
       "_model_module_version": "1.2.0",
       "_model_name": "LayoutModel",
       "_view_count": null,
       "_view_module": "@jupyter-widgets/base",
       "_view_module_version": "1.2.0",
       "_view_name": "LayoutView",
       "align_content": null,
       "align_items": null,
       "align_self": null,
       "border": null,
       "bottom": null,
       "display": null,
       "flex": null,
       "flex_flow": null,
       "grid_area": null,
       "grid_auto_columns": null,
       "grid_auto_flow": null,
       "grid_auto_rows": null,
       "grid_column": null,
       "grid_gap": null,
       "grid_row": null,
       "grid_template_areas": null,
       "grid_template_columns": null,
       "grid_template_rows": null,
       "height": null,
       "justify_content": null,
       "justify_items": null,
       "left": null,
       "margin": null,
       "max_height": null,
       "max_width": null,
       "min_height": null,
       "min_width": null,
       "object_fit": null,
       "object_position": null,
       "order": null,
       "overflow": null,
       "overflow_x": null,
       "overflow_y": null,
       "padding": null,
       "right": null,
       "top": null,
       "visibility": null,
       "width": null
      }
     },
     "c103a8cdf782461a8f02e4af6f658f47": {
      "model_module": "@jupyter-widgets/base",
      "model_module_version": "1.2.0",
      "model_name": "LayoutModel",
      "state": {
       "_model_module": "@jupyter-widgets/base",
       "_model_module_version": "1.2.0",
       "_model_name": "LayoutModel",
       "_view_count": null,
       "_view_module": "@jupyter-widgets/base",
       "_view_module_version": "1.2.0",
       "_view_name": "LayoutView",
       "align_content": null,
       "align_items": null,
       "align_self": null,
       "border": null,
       "bottom": null,
       "display": null,
       "flex": null,
       "flex_flow": null,
       "grid_area": null,
       "grid_auto_columns": null,
       "grid_auto_flow": null,
       "grid_auto_rows": null,
       "grid_column": null,
       "grid_gap": null,
       "grid_row": null,
       "grid_template_areas": null,
       "grid_template_columns": null,
       "grid_template_rows": null,
       "height": null,
       "justify_content": null,
       "justify_items": null,
       "left": null,
       "margin": null,
       "max_height": null,
       "max_width": null,
       "min_height": null,
       "min_width": null,
       "object_fit": null,
       "object_position": null,
       "order": null,
       "overflow": null,
       "overflow_x": null,
       "overflow_y": null,
       "padding": null,
       "right": null,
       "top": null,
       "visibility": null,
       "width": null
      }
     },
     "c113df5e42ce4ffc832e24b51d12e2df": {
      "model_module": "@jupyter-widgets/controls",
      "model_module_version": "1.5.0",
      "model_name": "HTMLModel",
      "state": {
       "_dom_classes": [],
       "_model_module": "@jupyter-widgets/controls",
       "_model_module_version": "1.5.0",
       "_model_name": "HTMLModel",
       "_view_count": null,
       "_view_module": "@jupyter-widgets/controls",
       "_view_module_version": "1.5.0",
       "_view_name": "HTMLView",
       "description": "",
       "description_tooltip": null,
       "layout": "IPY_MODEL_8aa6235f94c84a19bd34157f248575b9",
       "placeholder": "​",
       "style": "IPY_MODEL_338c492bf4de48a3a11b6545ad23acde",
       "value": " 528M/528M [00:02&lt;00:00, 180MB/s]"
      }
     },
     "c811a984928e4ae1a7c97cd3e56ee0e9": {
      "model_module": "@jupyter-widgets/controls",
      "model_module_version": "1.5.0",
      "model_name": "ProgressStyleModel",
      "state": {
       "_model_module": "@jupyter-widgets/controls",
       "_model_module_version": "1.5.0",
       "_model_name": "ProgressStyleModel",
       "_view_count": null,
       "_view_module": "@jupyter-widgets/base",
       "_view_module_version": "1.2.0",
       "_view_name": "StyleView",
       "bar_color": null,
       "description_width": ""
      }
     }
    },
    "version_major": 2,
    "version_minor": 0
   }
  }
 },
 "nbformat": 4,
 "nbformat_minor": 5
}
