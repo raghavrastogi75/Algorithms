{
 "cells": [
  {
   "cell_type": "markdown",
   "id": "f3799f13",
   "metadata": {
    "papermill": {
     "duration": 0.024935,
     "end_time": "2022-03-24T23:36:18.905089",
     "exception": false,
     "start_time": "2022-03-24T23:36:18.880154",
     "status": "completed"
    },
    "tags": []
   },
   "source": [
    "<a id=\"toc_section\"></a>\n",
    "## Contents of this notebook\n",
    "\n",
    "[**Raghav Rastogi**](https://www.kaggle.com/raghavrastogi75) \n",
    "\n",
    "\n",
    "* [Importing the libraries](#1)\n",
    "* [Loading and transforming the images](#2)\n",
    "* [Splitting the dataset](#3)\n",
    "* [Taking a look at the normalised images](#4)\n",
    "* [Creating Custom CNN network](#5)\n",
    "* [Transfer learning - VGG16](#6)\n",
    "* [Training Custom model](#7)\n",
    "* [Training VGG16 model](#8)"
   ]
  },
  {
   "cell_type": "code",
   "execution_count": 1,
   "id": "77213c82",
   "metadata": {
    "_cell_guid": "b1076dfc-b9ad-4769-8c92-a6c4dae69d19",
    "_uuid": "8f2839f25d086af736a60e9eeb907d3b93b6e0e5",
    "execution": {
     "iopub.execute_input": "2022-03-24T23:36:18.958405Z",
     "iopub.status.busy": "2022-03-24T23:36:18.956887Z",
     "iopub.status.idle": "2022-03-24T23:39:08.495425Z",
     "shell.execute_reply": "2022-03-24T23:39:08.494482Z",
     "shell.execute_reply.started": "2022-03-24T23:18:33.579276Z"
    },
    "jupyter": {
     "source_hidden": true
    },
    "papermill": {
     "duration": 169.568345,
     "end_time": "2022-03-24T23:39:08.495590",
     "exception": false,
     "start_time": "2022-03-24T23:36:18.927245",
     "status": "completed"
    },
    "tags": []
   },
   "outputs": [],
   "source": [
    "# Python 3 environment comes with many helpful analytics libraries installed\n",
    "# It is defined by the kaggle/python Docker image: https://github.com/kaggle/docker-python\n",
    "# For example, here's several helpful packages to load\n",
    "\n",
    "import numpy as np # linear algebra\n",
    "import pandas as pd # data processing, CSV file I/O (e.g. pd.read_csv)\n",
    "\n",
    "# Input data files are available in the read-only \"../input/\" directory\n",
    "# For example, running this (by clicking run or pressing Shift+Enter) will list all files under the input directory\n",
    "\n",
    "import os\n",
    "for dirname, _, filenames in os.walk('/kaggle/input'):\n",
    "    for filename in filenames:\n",
    "        os.path.join(dirname, filename)\n",
    "\n",
    "# You can write up to 20GB to the current directory (/kaggle/working/) that gets preserved as output when you create a version using \"Save & Run All\" \n",
    "# You can also write temporary files to /kaggle/temp/, but they won't be saved outside of the current session"
   ]
  },
  {
   "cell_type": "markdown",
   "id": "7e9cefe7",
   "metadata": {
    "papermill": {
     "duration": 0.018976,
     "end_time": "2022-03-24T23:39:08.534688",
     "exception": false,
     "start_time": "2022-03-24T23:39:08.515712",
     "status": "completed"
    },
    "tags": []
   },
   "source": [
    "# Importing the libraries <span id=\"1\"></span>"
   ]
  },
  {
   "cell_type": "code",
   "execution_count": 2,
   "id": "8376b339",
   "metadata": {
    "execution": {
     "iopub.execute_input": "2022-03-24T23:39:08.578509Z",
     "iopub.status.busy": "2022-03-24T23:39:08.577804Z",
     "iopub.status.idle": "2022-03-24T23:39:10.220491Z",
     "shell.execute_reply": "2022-03-24T23:39:10.219962Z",
     "shell.execute_reply.started": "2022-03-24T23:21:50.936179Z"
    },
    "papermill": {
     "duration": 1.666793,
     "end_time": "2022-03-24T23:39:10.220626",
     "exception": false,
     "start_time": "2022-03-24T23:39:08.553833",
     "status": "completed"
    },
    "tags": []
   },
   "outputs": [],
   "source": [
    "\n",
    "import torchvision\n",
    "import torch\n",
    "import numpy as np\n",
    "from torch import nn\n",
    "from torchvision import transforms, models, datasets\n",
    "from torch.utils.data import DataLoader\n",
    "import torch.nn.functional as F\n",
    "import torch.optim as optim\n",
    "import time\n",
    "import pandas as pd\n",
    "import torchvision.datasets as datasets\n",
    "from IPython import display\n",
    "import matplotlib.pyplot as plt\n",
    "import torchvision.transforms\n"
   ]
  },
  {
   "cell_type": "markdown",
   "id": "7eb27575",
   "metadata": {
    "papermill": {
     "duration": 0.018872,
     "end_time": "2022-03-24T23:39:10.261191",
     "exception": false,
     "start_time": "2022-03-24T23:39:10.242319",
     "status": "completed"
    },
    "tags": []
   },
   "source": [
    "> #### Setting up the data folder"
   ]
  },
  {
   "cell_type": "code",
   "execution_count": 3,
   "id": "9f6adc7a",
   "metadata": {
    "execution": {
     "iopub.execute_input": "2022-03-24T23:39:10.304036Z",
     "iopub.status.busy": "2022-03-24T23:39:10.303243Z",
     "iopub.status.idle": "2022-03-24T23:39:10.305152Z",
     "shell.execute_reply": "2022-03-24T23:39:10.305561Z",
     "shell.execute_reply.started": "2022-03-24T23:21:52.552906Z"
    },
    "papermill": {
     "duration": 0.025093,
     "end_time": "2022-03-24T23:39:10.305680",
     "exception": false,
     "start_time": "2022-03-24T23:39:10.280587",
     "status": "completed"
    },
    "tags": []
   },
   "outputs": [],
   "source": [
    "data_dir = \"../input/cats-vs-dogs-1/PetImages\""
   ]
  },
  {
   "cell_type": "markdown",
   "id": "7367cb76",
   "metadata": {
    "papermill": {
     "duration": 0.018963,
     "end_time": "2022-03-24T23:39:10.344442",
     "exception": false,
     "start_time": "2022-03-24T23:39:10.325479",
     "status": "completed"
    },
    "tags": []
   },
   "source": [
    "# Loading and transforming the images <span id=\"2\"></span>"
   ]
  },
  {
   "cell_type": "markdown",
   "id": "24d6b20d",
   "metadata": {
    "papermill": {
     "duration": 0.018768,
     "end_time": "2022-03-24T23:39:10.382240",
     "exception": false,
     "start_time": "2022-03-24T23:39:10.363472",
     "status": "completed"
    },
    "tags": []
   },
   "source": [
    "> #### The images are augmented and normalised here. We use \"ImageFolder\" where we have the directory in the specific format of images divided by each class as folders and path being defined as the main folder."
   ]
  },
  {
   "cell_type": "code",
   "execution_count": 4,
   "id": "b811bafc",
   "metadata": {
    "execution": {
     "iopub.execute_input": "2022-03-24T23:39:10.425539Z",
     "iopub.status.busy": "2022-03-24T23:39:10.424763Z",
     "iopub.status.idle": "2022-03-24T23:39:14.531704Z",
     "shell.execute_reply": "2022-03-24T23:39:14.531034Z",
     "shell.execute_reply.started": "2022-03-24T23:21:52.561756Z"
    },
    "papermill": {
     "duration": 4.13058,
     "end_time": "2022-03-24T23:39:14.531842",
     "exception": false,
     "start_time": "2022-03-24T23:39:10.401262",
     "status": "completed"
    },
    "tags": []
   },
   "outputs": [],
   "source": [
    "data_transforms = transforms.Compose([transforms.Resize([64,64]),\n",
    "                                      transforms.ToTensor(),\n",
    "                                      transforms.Normalize((0.485, 0.456, 0.406), (0.229, 0.224, 0.225))\n",
    "                                     ])\n",
    "\n",
    "training_data = datasets.ImageFolder(data_dir,transform = data_transforms)\n",
    "\n"
   ]
  },
  {
   "cell_type": "markdown",
   "id": "6ee6050c",
   "metadata": {
    "papermill": {
     "duration": 0.019253,
     "end_time": "2022-03-24T23:39:14.571528",
     "exception": false,
     "start_time": "2022-03-24T23:39:14.552275",
     "status": "completed"
    },
    "tags": []
   },
   "source": [
    "# Splitting the dataset  <span id=\"3\"></span>"
   ]
  },
  {
   "cell_type": "markdown",
   "id": "f660356e",
   "metadata": {
    "papermill": {
     "duration": 0.018945,
     "end_time": "2022-03-24T23:39:14.610021",
     "exception": false,
     "start_time": "2022-03-24T23:39:14.591076",
     "status": "completed"
    },
    "tags": []
   },
   "source": [
    "> #### I found out there are a lot are ways we can get the image data where the data is present as test and train directories, splitted by classes, or just a whole dump. This way below seems to be appropiate if get the format where the images are split by class as folders.\n",
    "\n",
    "> #### Here we simply split the training data to training, test and validation and get the loaders. Loaders is the 4 dimensional tensor which has (batch_size, channel, width, height) format."
   ]
  },
  {
   "cell_type": "code",
   "execution_count": 5,
   "id": "10832176",
   "metadata": {
    "execution": {
     "iopub.execute_input": "2022-03-24T23:39:14.658434Z",
     "iopub.status.busy": "2022-03-24T23:39:14.657607Z",
     "iopub.status.idle": "2022-03-24T23:39:14.659584Z",
     "shell.execute_reply": "2022-03-24T23:39:14.659945Z",
     "shell.execute_reply.started": "2022-03-24T23:21:57.195985Z"
    },
    "papermill": {
     "duration": 0.031029,
     "end_time": "2022-03-24T23:39:14.660093",
     "exception": false,
     "start_time": "2022-03-24T23:39:14.629064",
     "status": "completed"
    },
    "tags": []
   },
   "outputs": [],
   "source": [
    "from torch.utils.data import SubsetRandomSampler\n",
    "\n",
    "valid_size = 0.20\n",
    "test_size = 0.10\n",
    "# Split data into train and validation set\n",
    "num_train = len(training_data)\n",
    "indices = list(range(num_train))\n",
    "np.random.shuffle(indices)\n",
    "#print(indices)\n",
    "split1 = int(np.floor(valid_size * num_train))\n",
    "split2 = int(np.floor(test_size*num_train)) + split1\n",
    "#print(split1,split2)\n",
    "valid_idx, test_idx, train_idx = indices[:split1], indices[split1:split2],indices[split2:]\n",
    "\n",
    "training_data1 = SubsetRandomSampler(train_idx)\n",
    "valid_data1 = SubsetRandomSampler(valid_idx)\n",
    "test_data1 = SubsetRandomSampler(test_idx)\n",
    "\n",
    "training_loader = DataLoader(training_data, sampler = training_data1,batch_size = 25)\n",
    "valid_loader = DataLoader(training_data, sampler = valid_data1, batch_size = 25)\n",
    "test_loader = DataLoader(training_data, sampler = test_data1,batch_size = 25)"
   ]
  },
  {
   "cell_type": "markdown",
   "id": "42b499b4",
   "metadata": {
    "papermill": {
     "duration": 0.019143,
     "end_time": "2022-03-24T23:39:14.698404",
     "exception": false,
     "start_time": "2022-03-24T23:39:14.679261",
     "status": "completed"
    },
    "tags": []
   },
   "source": [
    "# Taking a look at the normalised images <span id=\"4\"></span>"
   ]
  },
  {
   "cell_type": "code",
   "execution_count": 6,
   "id": "3ba21533",
   "metadata": {
    "execution": {
     "iopub.execute_input": "2022-03-24T23:39:14.745565Z",
     "iopub.status.busy": "2022-03-24T23:39:14.741980Z",
     "iopub.status.idle": "2022-03-24T23:39:19.064833Z",
     "shell.execute_reply": "2022-03-24T23:39:19.065259Z",
     "shell.execute_reply.started": "2022-03-24T23:21:57.208156Z"
    },
    "papermill": {
     "duration": 4.347551,
     "end_time": "2022-03-24T23:39:19.065405",
     "exception": false,
     "start_time": "2022-03-24T23:39:14.717854",
     "status": "completed"
    },
    "tags": []
   },
   "outputs": [
    {
     "data": {
      "image/png": "[encoded data removed]",
      "text/plain": [
       "<Figure size 1152x1152 with 16 Axes>"
      ]
     },
     "metadata": {
      "needs_background": "light"
     },
     "output_type": "display_data"
    }
   ],
   "source": [
    "g = 1\n",
    "rows = 4\n",
    "cols = 4\n",
    "figure = plt.figure(figsize=(16, 16))\n",
    "for i,j in training_loader:    \n",
    "    figure.add_subplot(rows, cols, g)\n",
    "    for img in i:        \n",
    "        img = img.swapaxes(0, 1)\n",
    "        img = img.swapaxes(1, 2)\n",
    "        plt.imshow(img, cmap=\"gray\", interpolation='nearest', aspect='auto')        \n",
    "        break\n",
    "    g += 1    \n",
    "    if g > 16:\n",
    "        break\n",
    "plt.show()       "
   ]
  },
  {
   "cell_type": "markdown",
   "id": "c976212f",
   "metadata": {
    "papermill": {
     "duration": 0.023024,
     "end_time": "2022-03-24T23:39:19.111729",
     "exception": false,
     "start_time": "2022-03-24T23:39:19.088705",
     "status": "completed"
    },
    "tags": []
   },
   "source": [
    "# Creating Custom CNN network <span id=\"5\"></span>"
   ]
  },
  {
   "cell_type": "markdown",
   "id": "64e941de",
   "metadata": {
    "papermill": {
     "duration": 0.022617,
     "end_time": "2022-03-24T23:39:19.157037",
     "exception": false,
     "start_time": "2022-03-24T23:39:19.134420",
     "status": "completed"
    },
    "tags": []
   },
   "source": [
    "> ### Here are the key points when making a custom CNN model\n",
    "\n",
    "> * The formula O = ((I - f + 2p)/s) + 1 is used to keep track of the output image size where O is the output image size, f is the kernal size, p is the padding, s is the stride.\n",
    "\n",
    "> * Paramenters are calculated by ((NxNxC + 1)K) where N is the kernal size , C is the input channel and K is the output channels\n",
    "\n",
    "> * In the model below the kernal_size of 3 and padding 1 means that the outout image size is equal to the input image size. Howvever, the MaxPool2d, which has the kernal_size of 2 and stride of 2 halves the height and width of the image.\n",
    "\n",
    "> * Linear layer nodes are calculated by the product of input image size (NxN) and the out oput channels. Here it's 4x4x256\n",
    "\n",
    "> * Parameters of the Linear layer is calculates by (N1+1)N2 where N1 is the number of nodes in the previous layer and N2 is the number of nodes in the current layer\n"
   ]
  },
  {
   "cell_type": "code",
   "execution_count": 7,
   "id": "884a2f30",
   "metadata": {
    "execution": {
     "iopub.execute_input": "2022-03-24T23:39:19.214222Z",
     "iopub.status.busy": "2022-03-24T23:39:19.213463Z",
     "iopub.status.idle": "2022-03-24T23:39:22.120028Z",
     "shell.execute_reply": "2022-03-24T23:39:22.120417Z",
     "shell.execute_reply.started": "2022-03-24T23:22:02.354706Z"
    },
    "papermill": {
     "duration": 2.9409,
     "end_time": "2022-03-24T23:39:22.120569",
     "exception": false,
     "start_time": "2022-03-24T23:39:19.179669",
     "status": "completed"
    },
    "tags": []
   },
   "outputs": [
    {
     "data": {
      "text/plain": [
       "CNNModel(\n",
       "  (features): Sequential(\n",
       "    (0): Conv2d(3, 64, kernel_size=(3, 3), stride=(1, 1), padding=(1, 1))\n",
       "    (1): ReLU()\n",
       "    (2): MaxPool2d(kernel_size=2, stride=2, padding=0, dilation=1, ceil_mode=False)\n",
       "    (3): Conv2d(64, 128, kernel_size=(3, 3), stride=(1, 1), padding=(1, 1))\n",
       "    (4): ReLU()\n",
       "    (5): MaxPool2d(kernel_size=2, stride=2, padding=0, dilation=1, ceil_mode=False)\n",
       "    (6): Conv2d(128, 256, kernel_size=(3, 3), stride=(1, 1), padding=(1, 1))\n",
       "    (7): ReLU()\n",
       "    (8): MaxPool2d(kernel_size=2, stride=2, padding=0, dilation=1, ceil_mode=False)\n",
       "    (9): Conv2d(256, 256, kernel_size=(3, 3), stride=(1, 1), padding=(1, 1))\n",
       "    (10): ReLU()\n",
       "    (11): MaxPool2d(kernel_size=2, stride=2, padding=0, dilation=1, ceil_mode=False)\n",
       "  )\n",
       "  (classifier): Sequential(\n",
       "    (0): Dropout(p=0.5, inplace=False)\n",
       "    (1): Linear(in_features=4096, out_features=1024, bias=True)\n",
       "    (2): ReLU()\n",
       "    (3): Dropout(p=0.5, inplace=False)\n",
       "    (4): Linear(in_features=1024, out_features=2, bias=True)\n",
       "  )\n",
       ")"
      ]
     },
     "execution_count": 7,
     "metadata": {},
     "output_type": "execute_result"
    }
   ],
   "source": [
    "device =  torch.device('cuda' if torch.cuda.is_available else 'cpu')\n",
    "\n",
    "class CNNModel(nn.Module):\n",
    "    def __init__(self, num_classes):\n",
    "\n",
    "        super(CNNModel, self).__init__()\n",
    "        self.features = nn.Sequential(\n",
    "        nn.Conv2d(3, 64, kernel_size=3, padding=1), #input image 64x64 - Parameters = (3x3x3 + 1)*64\n",
    "        nn.ReLU(),\n",
    "        nn.MaxPool2d(kernel_size = 2, stride = 2),\n",
    "        nn.Conv2d(64,128, kernel_size = 3,padding = 1), #input image 32x32 - Parameters = (3x3x64 + 1)*128\n",
    "        nn.ReLU(),\n",
    "        nn.MaxPool2d(kernel_size = 2, stride = 2),\n",
    "        nn.Conv2d(128, 256, kernel_size=3, padding=1), #input image 16x16 - Parameters = (3x3x128 + 1)*256\n",
    "        nn.ReLU(),\n",
    "        nn.MaxPool2d(kernel_size=2, stride=2),\n",
    "        nn.Conv2d(256, 256, kernel_size=3, padding=1), #input image 8x8 - Parameters = (3x3x256 + 1)*256\n",
    "        nn.ReLU(),\n",
    "        nn.MaxPool2d(kernel_size=2, stride=2) #output image 4x4\n",
    "        )\n",
    "        \n",
    "        self.classifier = nn.Sequential(\n",
    "        nn.Dropout(),\n",
    "        nn.Linear(4*4*256,1024), #Parameters - (4x4x256 + 1)(1024)\n",
    "        nn.ReLU(),\n",
    "        nn.Dropout(),\n",
    "        nn.Linear(1024, num_classes) #Parameters - (1024 + 1)(2)\n",
    "        )\n",
    "\n",
    "    def forward(self, x):\n",
    "        x = self.features(x)\n",
    "        x = torch.flatten(x, 1)\n",
    "        x = self.classifier(x)\n",
    "        return x\n",
    "    \n",
    "    \n",
    "model = CNNModel(num_classes=2)\n",
    "criterion = nn.CrossEntropyLoss()\n",
    "optimizer = torch.optim.Adam(model.parameters(), lr= 0.001)\n",
    "model.to(device)"
   ]
  },
  {
   "cell_type": "markdown",
   "id": "76a71cca",
   "metadata": {
    "papermill": {
     "duration": 0.023096,
     "end_time": "2022-03-24T23:39:22.167246",
     "exception": false,
     "start_time": "2022-03-24T23:39:22.144150",
     "status": "completed"
    },
    "tags": []
   },
   "source": []
  },
  {
   "cell_type": "markdown",
   "id": "6130cd9c",
   "metadata": {
    "papermill": {
     "duration": 0.023023,
     "end_time": "2022-03-24T23:39:22.213651",
     "exception": false,
     "start_time": "2022-03-24T23:39:22.190628",
     "status": "completed"
    },
    "tags": []
   },
   "source": [
    "# Transfer learning - VGG16 <span id=\"6\"></span>"
   ]
  },
  {
   "cell_type": "markdown",
   "id": "c261a114",
   "metadata": {
    "papermill": {
     "duration": 0.022991,
     "end_time": "2022-03-24T23:39:22.259878",
     "exception": false,
     "start_time": "2022-03-24T23:39:22.236887",
     "status": "completed"
    },
    "tags": []
   },
   "source": [
    "> * #### This is pretty straight forward. We freeze the CNN part of the network and train the linear network completely with the images."
   ]
  },
  {
   "cell_type": "code",
   "execution_count": 8,
   "id": "be09486b",
   "metadata": {
    "execution": {
     "iopub.execute_input": "2022-03-24T23:39:22.313717Z",
     "iopub.status.busy": "2022-03-24T23:39:22.312955Z",
     "iopub.status.idle": "2022-03-24T23:39:27.083039Z",
     "shell.execute_reply": "2022-03-24T23:39:27.084105Z",
     "shell.execute_reply.started": "2022-03-24T23:22:05.331298Z"
    },
    "papermill": {
     "duration": 4.801278,
     "end_time": "2022-03-24T23:39:27.084325",
     "exception": false,
     "start_time": "2022-03-24T23:39:22.283047",
     "status": "completed"
    },
    "tags": []
   },
   "outputs": [
    {
     "name": "stderr",
     "output_type": "stream",
     "text": [
      "Downloading: \"https://download.pytorch.org/models/vgg16-397923af.pth\" to /root/.cache/torch/hub/checkpoints/vgg16-397923af.pth\n"
     ]
    },
    {
     "data": {
      "application/vnd.jupyter.widget-view+json": {
       "model_id": "2c947a5131ee404b84ff6ff073787dd5",
       "version_major": 2,
       "version_minor": 0
      },
      "text/plain": [
       "  0%|          | 0.00/528M [00:00<?, ?B/s]"
      ]
     },
     "metadata": {},
     "output_type": "display_data"
    },
    {
     "data": {
      "text/plain": [
       "VGG(\n",
       "  (features): Sequential(\n",
       "    (0): Conv2d(3, 64, kernel_size=(3, 3), stride=(1, 1), padding=(1, 1))\n",
       "    (1): ReLU(inplace=True)\n",
       "    (2): Conv2d(64, 64, kernel_size=(3, 3), stride=(1, 1), padding=(1, 1))\n",
       "    (3): ReLU(inplace=True)\n",
       "    (4): MaxPool2d(kernel_size=2, stride=2, padding=0, dilation=1, ceil_mode=False)\n",
       "    (5): Conv2d(64, 128, kernel_size=(3, 3), stride=(1, 1), padding=(1, 1))\n",
       "    (6): ReLU(inplace=True)\n",
       "    (7): Conv2d(128, 128, kernel_size=(3, 3), stride=(1, 1), padding=(1, 1))\n",
       "    (8): ReLU(inplace=True)\n",
       "    (9): MaxPool2d(kernel_size=2, stride=2, padding=0, dilation=1, ceil_mode=False)\n",
       "    (10): Conv2d(128, 256, kernel_size=(3, 3), stride=(1, 1), padding=(1, 1))\n",
       "    (11): ReLU(inplace=True)\n",
       "    (12): Conv2d(256, 256, kernel_size=(3, 3), stride=(1, 1), padding=(1, 1))\n",
       "    (13): ReLU(inplace=True)\n",
       "    (14): Conv2d(256, 256, kernel_size=(3, 3), stride=(1, 1), padding=(1, 1))\n",
       "    (15): ReLU(inplace=True)\n",
       "    (16): MaxPool2d(kernel_size=2, stride=2, padding=0, dilation=1, ceil_mode=False)\n",
       "    (17): Conv2d(256, 512, kernel_size=(3, 3), stride=(1, 1), padding=(1, 1))\n",
       "    (18): ReLU(inplace=True)\n",
       "    (19): Conv2d(512, 512, kernel_size=(3, 3), stride=(1, 1), padding=(1, 1))\n",
       "    (20): ReLU(inplace=True)\n",
       "    (21): Conv2d(512, 512, kernel_size=(3, 3), stride=(1, 1), padding=(1, 1))\n",
       "    (22): ReLU(inplace=True)\n",
       "    (23): MaxPool2d(kernel_size=2, stride=2, padding=0, dilation=1, ceil_mode=False)\n",
       "    (24): Conv2d(512, 512, kernel_size=(3, 3), stride=(1, 1), padding=(1, 1))\n",
       "    (25): ReLU(inplace=True)\n",
       "    (26): Conv2d(512, 512, kernel_size=(3, 3), stride=(1, 1), padding=(1, 1))\n",
       "    (27): ReLU(inplace=True)\n",
       "    (28): Conv2d(512, 512, kernel_size=(3, 3), stride=(1, 1), padding=(1, 1))\n",
       "    (29): ReLU(inplace=True)\n",
       "    (30): MaxPool2d(kernel_size=2, stride=2, padding=0, dilation=1, ceil_mode=False)\n",
       "  )\n",
       "  (avgpool): AdaptiveAvgPool2d(output_size=(1, 1))\n",
       "  (classifier): Sequential(\n",
       "    (0): Flatten(start_dim=1, end_dim=-1)\n",
       "    (1): Linear(in_features=512, out_features=128, bias=True)\n",
       "    (2): ReLU()\n",
       "    (3): Dropout(p=0.2, inplace=False)\n",
       "    (4): Linear(in_features=128, out_features=2, bias=True)\n",
       "    (5): Sigmoid()\n",
       "  )\n",
       ")"
      ]
     },
     "execution_count": 8,
     "metadata": {},
     "output_type": "execute_result"
    }
   ],
   "source": [
    "model1 = models.vgg16(pretrained=True)\n",
    "for param in model1.parameters():\n",
    "    param.requires_grad = False\n",
    "model1.avgpool = nn.AdaptiveAvgPool2d(output_size=(1,1))\n",
    "model1.classifier = nn.Sequential(nn.Flatten(),\n",
    "nn.Linear(512, 128),\n",
    "nn.ReLU(),\n",
    "nn.Dropout(0.2),\n",
    "nn.Linear(128, 2),\n",
    "nn.Sigmoid())\n",
    "\n",
    "criterion1 = nn.BCELoss()\n",
    "optimizer1 = torch.optim.Adam(model1.parameters(), lr= 1e-3)\n",
    "\n",
    "model1.to(device)"
   ]
  },
  {
   "cell_type": "markdown",
   "id": "eb7b0712",
   "metadata": {
    "papermill": {
     "duration": 0.048343,
     "end_time": "2022-03-24T23:39:27.187878",
     "exception": false,
     "start_time": "2022-03-24T23:39:27.139535",
     "status": "completed"
    },
    "tags": []
   },
   "source": [
    "# Training the model"
   ]
  },
  {
   "cell_type": "markdown",
   "id": "83a1c8c3",
   "metadata": {
    "papermill": {
     "duration": 0.044071,
     "end_time": "2022-03-24T23:39:27.278299",
     "exception": false,
     "start_time": "2022-03-24T23:39:27.234228",
     "status": "completed"
    },
    "tags": []
   },
   "source": [
    "> * #### I found the code below pretty standard and being used a lot of times and we simply call it to train any tyoe of model."
   ]
  },
  {
   "cell_type": "code",
   "execution_count": 9,
   "id": "fd7378b3",
   "metadata": {
    "execution": {
     "iopub.execute_input": "2022-03-24T23:39:27.375684Z",
     "iopub.status.busy": "2022-03-24T23:39:27.373560Z",
     "iopub.status.idle": "2022-03-24T23:39:27.391237Z",
     "shell.execute_reply": "2022-03-24T23:39:27.392199Z",
     "shell.execute_reply.started": "2022-03-24T23:22:18.553226Z"
    },
    "papermill": {
     "duration": 0.070944,
     "end_time": "2022-03-24T23:39:27.392385",
     "exception": false,
     "start_time": "2022-03-24T23:39:27.321441",
     "status": "completed"
    },
    "tags": []
   },
   "outputs": [],
   "source": [
    "import time\n",
    "\n",
    "def train(model, optimizer, loss_fn, train_dl, val_dl, epochs=100, device='cpu'):\n",
    "\n",
    "    print('train() called: model=%s, opt=%s(lr=%f), epochs=%d, device=%s\\n' % \\\n",
    "          (type(model).__name__, type(optimizer).__name__,\n",
    "           optimizer.param_groups[0]['lr'], epochs, device))\n",
    "\n",
    "    history = {} # Collects per-epoch loss and acc like Keras' fit().\n",
    "    history['loss'] = []\n",
    "    history['val_loss'] = []\n",
    "    history['acc'] = []\n",
    "    history['val_acc'] = []\n",
    "\n",
    "    start_time_sec = time.time()\n",
    "\n",
    "    for epoch in range(1, epochs+1):\n",
    "\n",
    "        # --- TRAIN AND EVALUATE ON TRAINING SET -----------------------------\n",
    "        model.train()\n",
    "        train_loss         = 0.0\n",
    "        num_train_correct  = 0\n",
    "        num_train_examples = 0\n",
    "\n",
    "        for batch in train_dl:\n",
    "\n",
    "            optimizer.zero_grad()\n",
    "\n",
    "            x    = batch[0].to(device)\n",
    "            y    = batch[1].to(device)\n",
    "            yhat = model(x)\n",
    "            loss = loss_fn(yhat, y)\n",
    "\n",
    "            loss.backward()\n",
    "            optimizer.step()\n",
    "\n",
    "            train_loss         += loss.data.item() * x.size(0)\n",
    "            num_train_correct  += (torch.max(yhat, 1)[1] == y).sum().item()\n",
    "            num_train_examples += x.shape[0]\n",
    "\n",
    "        train_acc   = num_train_correct / num_train_examples\n",
    "        train_loss  = train_loss / len(train_dl.dataset)\n",
    "\n",
    "\n",
    "        # --- EVALUATE ON VALIDATION SET -------------------------------------\n",
    "        model.eval()\n",
    "        val_loss       = 0.0\n",
    "        num_val_correct  = 0\n",
    "        num_val_examples = 0\n",
    "\n",
    "        for batch in val_dl:\n",
    "\n",
    "            x    = batch[0].to(device)\n",
    "            y    = batch[1].to(device)\n",
    "            yhat = model(x)\n",
    "            loss = loss_fn(yhat, y)\n",
    "\n",
    "            val_loss         += loss.data.item() * x.size(0)\n",
    "            num_val_correct  += (torch.max(yhat, 1)[1] == y).sum().item()\n",
    "            num_val_examples += y.shape[0]\n",
    "\n",
    "        val_acc  = num_val_correct / num_val_examples\n",
    "        val_loss = val_loss / len(val_dl.dataset)\n",
    "\n",
    "\n",
    "        if epoch == 1 or epoch % 10 == 0:\n",
    "          print('Epoch %3d/%3d, train loss: %5.2f, train acc: %5.2f, val loss: %5.2f, val acc: %5.2f' % \\\n",
    "                (epoch, epochs, train_loss, train_acc, val_loss, val_acc))\n",
    "\n",
    "        history['loss'].append(train_loss)\n",
    "        history['val_loss'].append(val_loss)\n",
    "        history['acc'].append(train_acc)\n",
    "        history['val_acc'].append(val_acc)\n",
    "\n",
    "    # END OF TRAINING LOOP\n",
    "\n",
    "\n",
    "    end_time_sec       = time.time()\n",
    "    total_time_sec     = end_time_sec - start_time_sec\n",
    "    time_per_epoch_sec = total_time_sec / epochs\n",
    "    print()\n",
    "    print('Time total:     %5.2f sec' % (total_time_sec))\n",
    "    print('Time per epoch: %5.2f sec' % (time_per_epoch_sec))\n",
    "\n",
    "    return history"
   ]
  },
  {
   "cell_type": "markdown",
   "id": "0dc11a3c",
   "metadata": {
    "papermill": {
     "duration": 0.039527,
     "end_time": "2022-03-24T23:39:27.474811",
     "exception": false,
     "start_time": "2022-03-24T23:39:27.435284",
     "status": "completed"
    },
    "tags": []
   },
   "source": [
    "# Training Custom model <span id=\"7\"></span>"
   ]
  },
  {
   "cell_type": "code",
   "execution_count": 10,
   "id": "2329680a",
   "metadata": {
    "execution": {
     "iopub.execute_input": "2022-03-24T23:39:27.537587Z",
     "iopub.status.busy": "2022-03-24T23:39:27.536712Z",
     "iopub.status.idle": "2022-03-24T23:55:22.465850Z",
     "shell.execute_reply": "2022-03-24T23:55:22.466491Z"
    },
    "papermill": {
     "duration": 954.958698,
     "end_time": "2022-03-24T23:55:22.466689",
     "exception": false,
     "start_time": "2022-03-24T23:39:27.507991",
     "status": "completed"
    },
    "tags": []
   },
   "outputs": [
    {
     "name": "stdout",
     "output_type": "stream",
     "text": [
      "train() called: model=CNNModel, opt=Adam(lr=0.001000), epochs=10, device=cuda\n",
      "\n"
     ]
    },
    {
     "name": "stderr",
     "output_type": "stream",
     "text": [
      "/opt/conda/lib/python3.7/site-packages/PIL/TiffImagePlugin.py:793: UserWarning: Truncated File Read\n",
      "  warnings.warn(str(msg))\n"
     ]
    },
    {
     "name": "stdout",
     "output_type": "stream",
     "text": [
      "Epoch   1/ 10, train loss:  0.43, train acc:  0.66, val loss:  0.11, val acc:  0.73\n",
      "Epoch  10/ 10, train loss:  0.16, train acc:  0.90, val loss:  0.07, val acc:  0.86\n",
      "\n",
      "Time total:     954.90 sec\n",
      "Time per epoch: 95.49 sec\n"
     ]
    }
   ],
   "source": [
    "history = train(model, optimizer,criterion, training_loader,valid_loader, epochs=10, device=device)"
   ]
  },
  {
   "cell_type": "code",
   "execution_count": 11,
   "id": "11d402ae",
   "metadata": {
    "execution": {
     "iopub.execute_input": "2022-03-24T23:55:22.539262Z",
     "iopub.status.busy": "2022-03-24T23:55:22.538426Z",
     "iopub.status.idle": "2022-03-24T23:55:22.885842Z",
     "shell.execute_reply": "2022-03-24T23:55:22.886285Z"
    },
    "papermill": {
     "duration": 0.393043,
     "end_time": "2022-03-24T23:55:22.886441",
     "exception": false,
     "start_time": "2022-03-24T23:55:22.493398",
     "status": "completed"
    },
    "tags": []
   },
   "outputs": [
    {
     "data": {
      "image/png": "[encoded data removed]",
      "text/plain": [
       "<Figure size 432x288 with 1 Axes>"
      ]
     },
     "metadata": {
      "needs_background": "light"
     },
     "output_type": "display_data"
    },
    {
     "data": {
      "image/png": "[encoded data removed]",
      "text/plain": [
       "<Figure size 432x288 with 1 Axes>"
      ]
     },
     "metadata": {
      "needs_background": "light"
     },
     "output_type": "display_data"
    }
   ],
   "source": [
    "\n",
    "import matplotlib.pyplot as plt\n",
    "\n",
    "acc = history['acc']\n",
    "val_acc = history['val_acc']\n",
    "loss = history['loss']\n",
    "val_loss = history['val_loss']\n",
    "epochs = range(1, len(acc) + 1)\n",
    "\n",
    "plt.plot(epochs, acc, 'b', label='Training acc')\n",
    "plt.plot(epochs, val_acc, 'r', label='Validation acc')\n",
    "plt.title('Training and validation accuracy')\n",
    "plt.legend()\n",
    "plt.figure()\n",
    "plt.plot(epochs, loss, 'b', label='Training loss')\n",
    "plt.plot(epochs, val_loss, 'r', label='Validation loss')\n",
    "plt.title('Training and validation loss')\n",
    "plt.legend()\n",
    "plt.show()\n"
   ]
  },
  {
   "cell_type": "markdown",
   "id": "8ea5100c",
   "metadata": {
    "papermill": {
     "duration": 0.02819,
     "end_time": "2022-03-24T23:55:22.943746",
     "exception": false,
     "start_time": "2022-03-24T23:55:22.915556",
     "status": "completed"
    },
    "tags": []
   },
   "source": [
    "# Training VGG16 model <span id=\"8\"></span>"
   ]
  },
  {
   "cell_type": "code",
   "execution_count": 12,
   "id": "64dc07d2",
   "metadata": {
    "execution": {
     "iopub.execute_input": "2022-03-24T23:55:23.004632Z",
     "iopub.status.busy": "2022-03-24T23:55:23.003942Z",
     "iopub.status.idle": "2022-03-25T00:10:55.903530Z",
     "shell.execute_reply": "2022-03-25T00:10:55.904135Z"
    },
    "papermill": {
     "duration": 932.932798,
     "end_time": "2022-03-25T00:10:55.904375",
     "exception": false,
     "start_time": "2022-03-24T23:55:22.971577",
     "status": "completed"
    },
    "tags": []
   },
   "outputs": [
    {
     "name": "stdout",
     "output_type": "stream",
     "text": [
      "train() called: model=VGG, opt=Adam(lr=0.001000), epochs=10, device=cuda\n",
      "\n",
      "Epoch   1/ 10, train loss:  0.30, train acc:  0.89, val loss:  0.08, val acc:  0.89\n",
      "Epoch  10/ 10, train loss:  0.26, train acc:  0.95, val loss:  0.08, val acc:  0.90\n",
      "\n",
      "Time total:     932.87 sec\n",
      "Time per epoch: 93.29 sec\n"
     ]
    }
   ],
   "source": [
    "history1 = train(model1, optimizer1,criterion, training_loader,valid_loader, epochs=10, device=device)"
   ]
  },
  {
   "cell_type": "code",
   "execution_count": 13,
   "id": "5bc6c156",
   "metadata": {
    "execution": {
     "iopub.execute_input": "2022-03-25T00:10:56.002605Z",
     "iopub.status.busy": "2022-03-25T00:10:55.988037Z",
     "iopub.status.idle": "2022-03-25T00:10:56.321632Z",
     "shell.execute_reply": "2022-03-25T00:10:56.321027Z"
    },
    "papermill": {
     "duration": 0.387315,
     "end_time": "2022-03-25T00:10:56.321761",
     "exception": false,
     "start_time": "2022-03-25T00:10:55.934446",
     "status": "completed"
    },
    "tags": []
   },
   "outputs": [
    {
     "data": {
      "image/png": "[encoded data removed]",
      "text/plain": [
       "<Figure size 432x288 with 1 Axes>"
      ]
     },
     "metadata": {
      "needs_background": "light"
     },
     "output_type": "display_data"
    },
    {
     "data": {
      "image/png": "[encoded data removed]",
      "text/plain": [
       "<Figure size 432x288 with 1 Axes>"
      ]
     },
     "metadata": {
      "needs_background": "light"
     },
     "output_type": "display_data"
    }
   ],
   "source": [
    "acc = history1['acc']\n",
    "val_acc = history1['val_acc']\n",
    "loss = history1['loss']\n",
    "val_loss = history1['val_loss']\n",
    "epochs = range(1, len(acc) + 1)\n",
    "\n",
    "plt.plot(epochs, acc, 'b', label='Training acc')\n",
    "plt.plot(epochs, val_acc, 'r', label='Validation acc')\n",
    "plt.title('Training and validation accuracy')\n",
    "plt.legend()\n",
    "plt.figure()\n",
    "plt.plot(epochs, loss, 'b', label='Training loss')\n",
    "plt.plot(epochs, val_loss, 'r', label='Validation loss')\n",
    "plt.title('Training and validation loss')\n",
    "plt.legend()\n",
    "plt.show()"
   ]
  }
 ],
 "metadata": {
  "kernelspec": {
   "display_name": "Python 3",
   "language": "python",
   "name": "python3"
  },
  "language_info": {
   "codemirror_mode": {
    "name": "ipython",
    "version": 3
   },
   "file_extension": ".py",
   "mimetype": "text/x-python",
   "name": "python",
   "nbconvert_exporter": "python",
   "pygments_lexer": "ipython3",
   "version": "3.7.12"
  },
  "papermill": {
   "default_parameters": {},
   "duration": 2087.487592,
   "end_time": "2022-03-25T00:10:57.668556",
   "environment_variables": {},
   "exception": null,
   "input_path": "__notebook__.ipynb",
   "output_path": "__notebook__.ipynb",
   "parameters": {},
   "start_time": "2022-03-24T23:36:10.180964",
   "version": "2.3.3"
  },
  "widgets": {
   "application/vnd.jupyter.widget-state+json": {
    "state": {
     "0d1e19c777ca45c7ae2fc66c4a282306": {
      "model_module": "@jupyter-widgets/controls",
      "model_module_version": "1.5.0",
      "model_name": "ProgressStyleModel",
      "state": {
       "_model_module": "@jupyter-widgets/controls",
       "_model_module_version": "1.5.0",
       "_model_name": "ProgressStyleModel",
       "_view_count": null,
       "_view_module": "@jupyter-widgets/base",
       "_view_module_version": "1.2.0",
       "_view_name": "StyleView",
       "bar_color": null,
       "description_width": ""
      }
     },
     "1514f3817d5845a5ac3a17850c0c400e": {
      "model_module": "@jupyter-widgets/base",
      "model_module_version": "1.2.0",
      "model_name": "LayoutModel",
      "state": {
       "_model_module": "@jupyter-widgets/base",
       "_model_module_version": "1.2.0",
       "_model_name": "LayoutModel",
       "_view_count": null,
       "_view_module": "@jupyter-widgets/base",
       "_view_module_version": "1.2.0",
       "_view_name": "LayoutView",
       "align_content": null,
       "align_items": null,
       "align_self": null,
       "border": null,
       "bottom": null,
       "display": null,
       "flex": null,
       "flex_flow": null,
       "grid_area": null,
       "grid_auto_columns": null,
       "grid_auto_flow": null,
       "grid_auto_rows": null,
       "grid_column": null,
       "grid_gap": null,
       "grid_row": null,
       "grid_template_areas": null,
       "grid_template_columns": null,
       "grid_template_rows": null,
       "height": null,
       "justify_content": null,
       "justify_items": null,
       "left": null,
       "margin": null,
       "max_height": null,
       "max_width": null,
       "min_height": null,
       "min_width": null,
       "object_fit": null,
       "object_position": null,
       "order": null,
       "overflow": null,
       "overflow_x": null,
       "overflow_y": null,
       "padding": null,
       "right": null,
       "top": null,
       "visibility": null,
       "width": null
      }
     },
     "266d0bef9e324876906aac6a45a0707b": {
      "model_module": "@jupyter-widgets/base",
      "model_module_version": "1.2.0",
      "model_name": "LayoutModel",
      "state": {
       "_model_module": "@jupyter-widgets/base",
       "_model_module_version": "1.2.0",
       "_model_name": "LayoutModel",
       "_view_count": null,
       "_view_module": "@jupyter-widgets/base",
       "_view_module_version": "1.2.0",
       "_view_name": "LayoutView",
       "align_content": null,
       "align_items": null,
       "align_self": null,
       "border": null,
       "bottom": null,
       "display": null,
       "flex": null,
       "flex_flow": null,
       "grid_area": null,
       "grid_auto_columns": null,
       "grid_auto_flow": null,
       "grid_auto_rows": null,
       "grid_column": null,
       "grid_gap": null,
       "grid_row": null,
       "grid_template_areas": null,
       "grid_template_columns": null,
       "grid_template_rows": null,
       "height": null,
       "justify_content": null,
       "justify_items": null,
       "left": null,
       "margin": null,
       "max_height": null,
       "max_width": null,
       "min_height": null,
       "min_width": null,
       "object_fit": null,
       "object_position": null,
       "order": null,
       "overflow": null,
       "overflow_x": null,
       "overflow_y": null,
       "padding": null,
       "right": null,
       "top": null,
       "visibility": null,
       "width": null
      }
     },
     "2c947a5131ee404b84ff6ff073787dd5": {
      "model_module": "@jupyter-widgets/controls",
      "model_module_version": "1.5.0",
      "model_name": "HBoxModel",
      "state": {
       "_dom_classes": [],
       "_model_module": "@jupyter-widgets/controls",
       "_model_module_version": "1.5.0",
       "_model_name": "HBoxModel",
       "_view_count": null,
       "_view_module": "@jupyter-widgets/controls",
       "_view_module_version": "1.5.0",
       "_view_name": "HBoxView",
       "box_style": "",
       "children": [
        "IPY_MODEL_6f77613bf9b84c4788b6f65bf573d3c6",
        "IPY_MODEL_8765e982f8b846b092ed9dacb1f66c4c",
        "IPY_MODEL_e55bcb498130459ba13a27d86d6d38af"
       ],
       "layout": "IPY_MODEL_4255e091c6474e5abf14e27de686f43d"
      }
     },
     "4255e091c6474e5abf14e27de686f43d": {
      "model_module": "@jupyter-widgets/base",
      "model_module_version": "1.2.0",
      "model_name": "LayoutModel",
      "state": {
       "_model_module": "@jupyter-widgets/base",
       "_model_module_version": "1.2.0",
       "_model_name": "LayoutModel",
       "_view_count": null,
       "_view_module": "@jupyter-widgets/base",
       "_view_module_version": "1.2.0",
       "_view_name": "LayoutView",
       "align_content": null,
       "align_items": null,
       "align_self": null,
       "border": null,
       "bottom": null,
       "display": null,
       "flex": null,
       "flex_flow": null,
       "grid_area": null,
       "grid_auto_columns": null,
       "grid_auto_flow": null,
       "grid_auto_rows": null,
       "grid_column": null,
       "grid_gap": null,
       "grid_row": null,
       "grid_template_areas": null,
       "grid_template_columns": null,
       "grid_template_rows": null,
       "height": null,
       "justify_content": null,
       "justify_items": null,
       "left": null,
       "margin": null,
       "max_height": null,
       "max_width": null,
       "min_height": null,
       "min_width": null,
       "object_fit": null,
       "object_position": null,
       "order": null,
       "overflow": null,
       "overflow_x": null,
       "overflow_y": null,
       "padding": null,
       "right": null,
       "top": null,
       "visibility": null,
       "width": null
      }
     },
     "6f77613bf9b84c4788b6f65bf573d3c6": {
      "model_module": "@jupyter-widgets/controls",
      "model_module_version": "1.5.0",
      "model_name": "HTMLModel",
      "state": {
       "_dom_classes": [],
       "_model_module": "@jupyter-widgets/controls",
       "_model_module_version": "1.5.0",
       "_model_name": "HTMLModel",
       "_view_count": null,
       "_view_module": "@jupyter-widgets/controls",
       "_view_module_version": "1.5.0",
       "_view_name": "HTMLView",
       "description": "",
       "description_tooltip": null,
       "layout": "IPY_MODEL_1514f3817d5845a5ac3a17850c0c400e",
       "placeholder": "​",
       "style": "IPY_MODEL_9f1fc6b7b2b841eebadb308260bec4d2",
       "value": "100%"
      }
     },
     "8765e982f8b846b092ed9dacb1f66c4c": {
      "model_module": "@jupyter-widgets/controls",
      "model_module_version": "1.5.0",
      "model_name": "FloatProgressModel",
      "state": {
       "_dom_classes": [],
       "_model_module": "@jupyter-widgets/controls",
       "_model_module_version": "1.5.0",
       "_model_name": "FloatProgressModel",
       "_view_count": null,
       "_view_module": "@jupyter-widgets/controls",
       "_view_module_version": "1.5.0",
       "_view_name": "ProgressView",
       "bar_style": "success",
       "description": "",
       "description_tooltip": null,
       "layout": "IPY_MODEL_9a45a07f74bc49568912fa95828fcd7b",
       "max": 553433881.0,
       "min": 0.0,
       "orientation": "horizontal",
       "style": "IPY_MODEL_0d1e19c777ca45c7ae2fc66c4a282306",
       "value": 553433881.0
      }
     },
     "9a45a07f74bc49568912fa95828fcd7b": {
      "model_module": "@jupyter-widgets/base",
      "model_module_version": "1.2.0",
      "model_name": "LayoutModel",
      "state": {
       "_model_module": "@jupyter-widgets/base",
       "_model_module_version": "1.2.0",
       "_model_name": "LayoutModel",
       "_view_count": null,
       "_view_module": "@jupyter-widgets/base",
       "_view_module_version": "1.2.0",
       "_view_name": "LayoutView",
       "align_content": null,
       "align_items": null,
       "align_self": null,
       "border": null,
       "bottom": null,
       "display": null,
       "flex": null,
       "flex_flow": null,
       "grid_area": null,
       "grid_auto_columns": null,
       "grid_auto_flow": null,
       "grid_auto_rows": null,
       "grid_column": null,
       "grid_gap": null,
       "grid_row": null,
       "grid_template_areas": null,
       "grid_template_columns": null,
       "grid_template_rows": null,
       "height": null,
       "justify_content": null,
       "justify_items": null,
       "left": null,
       "margin": null,
       "max_height": null,
       "max_width": null,
       "min_height": null,
       "min_width": null,
       "object_fit": null,
       "object_position": null,
       "order": null,
       "overflow": null,
       "overflow_x": null,
       "overflow_y": null,
       "padding": null,
       "right": null,
       "top": null,
       "visibility": null,
       "width": null
      }
     },
     "9f1fc6b7b2b841eebadb308260bec4d2": {
      "model_module": "@jupyter-widgets/controls",
      "model_module_version": "1.5.0",
      "model_name": "DescriptionStyleModel",
      "state": {
       "_model_module": "@jupyter-widgets/controls",
       "_model_module_version": "1.5.0",
       "_model_name": "DescriptionStyleModel",
       "_view_count": null,
       "_view_module": "@jupyter-widgets/base",
       "_view_module_version": "1.2.0",
       "_view_name": "StyleView",
       "description_width": ""
      }
     },
     "9fc30878c6874552846b5495780bee41": {
      "model_module": "@jupyter-widgets/controls",
      "model_module_version": "1.5.0",
      "model_name": "DescriptionStyleModel",
      "state": {
       "_model_module": "@jupyter-widgets/controls",
       "_model_module_version": "1.5.0",
       "_model_name": "DescriptionStyleModel",
       "_view_count": null,
       "_view_module": "@jupyter-widgets/base",
       "_view_module_version": "1.2.0",
       "_view_name": "StyleView",
       "description_width": ""
      }
     },
     "e55bcb498130459ba13a27d86d6d38af": {
      "model_module": "@jupyter-widgets/controls",
      "model_module_version": "1.5.0",
      "model_name": "HTMLModel",
      "state": {
       "_dom_classes": [],
       "_model_module": "@jupyter-widgets/controls",
       "_model_module_version": "1.5.0",
       "_model_name": "HTMLModel",
       "_view_count": null,
       "_view_module": "@jupyter-widgets/controls",
       "_view_module_version": "1.5.0",
       "_view_name": "HTMLView",
       "description": "",
       "description_tooltip": null,
       "layout": "IPY_MODEL_266d0bef9e324876906aac6a45a0707b",
       "placeholder": "​",
       "style": "IPY_MODEL_9fc30878c6874552846b5495780bee41",
       "value": " 528M/528M [00:02&lt;00:00, 178MB/s]"
      }
     }
    },
    "version_major": 2,
    "version_minor": 0
   }
  }
 },
 "nbformat": 4,
 "nbformat_minor": 5
}
